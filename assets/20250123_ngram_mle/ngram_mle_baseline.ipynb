{
 "cells": [
  {
   "cell_type": "markdown",
   "metadata": {},
   "source": [
    "# **N-gram MLE Playground**"
   ]
  },
  {
   "cell_type": "markdown",
   "metadata": {},
   "source": [
    "## Unsmoothed MLE on a character-level language model"
   ]
  },
  {
   "cell_type": "markdown",
   "metadata": {},
   "source": [
    "### Training"
   ]
  },
  {
   "cell_type": "code",
   "execution_count": 23,
   "metadata": {},
   "outputs": [],
   "source": [
    "from collections import defaultdict, Counter\n",
    "\n",
    "def train_char_level_lm(data: list, block_size: int = 4) -> dict:\n",
    "    dict = defaultdict(Counter)\n",
    "    padding = \".\" * block_size\n",
    "    data = padding + data\n",
    "    # counting\n",
    "    for i in range(len(data) - block_size):\n",
    "        input, output = data[i:i+block_size], data[i+block_size]\n",
    "        dict[input][output] += 1\n",
    "    # normalization    \n",
    "    def normalize(counter: Counter) -> list:\n",
    "        size = float(sum(counter.values()))\n",
    "        return [(c, cnt/size) for c, cnt in counter.items()]\n",
    "\n",
    "    return {input:normalize(output) for input, output in dict.items()}"
   ]
  },
  {
   "cell_type": "markdown",
   "metadata": {},
   "source": [
    "Get the Andreg Karpathy's **Shakepears**'s dataset:"
   ]
  },
  {
   "cell_type": "code",
   "execution_count": 16,
   "metadata": {},
   "outputs": [
    {
     "name": "stderr",
     "output_type": "stream",
     "text": [
      "--2025-01-23 13:20:59--  https://raw.githubusercontent.com/karpathy/char-rnn/refs/heads/master/data/tinyshakespeare/input.txt\n",
      "Resolving raw.githubusercontent.com (raw.githubusercontent.com)... 185.199.108.133, 185.199.110.133, 185.199.111.133, ...\n",
      "Connecting to raw.githubusercontent.com (raw.githubusercontent.com)|185.199.108.133|:443... connected.\n",
      "HTTP request sent, awaiting response... 200 OK\n",
      "Length: 1115394 (1.1M) [text/plain]\n",
      "Saving to: 'input.txt'\n",
      "\n",
      "     0K .......... .......... .......... .......... ..........  4%  541K 2s\n",
      "    50K .......... .......... .......... .......... ..........  9%  966K 1s\n",
      "   100K .......... .......... .......... .......... .......... 13% 2.52M 1s\n",
      "   150K .......... .......... .......... .......... .......... 18% 3.70M 1s\n",
      "   200K .......... .......... .......... .......... .......... 22% 1.04M 1s\n",
      "   250K .......... .......... .......... .......... .......... 27% 4.68M 1s\n",
      "   300K .......... .......... .......... .......... .......... 32% 1.94M 1s\n",
      "   350K .......... .......... .......... .......... .......... 36%  104M 0s\n",
      "   400K .......... .......... .......... .......... .......... 41%  171M 0s\n",
      "   450K .......... .......... .......... .......... .......... 45% 1.37M 0s\n",
      "   500K .......... .......... .......... .......... .......... 50% 10.5M 0s\n",
      "   550K .......... .......... .......... .......... .......... 55% 8.80M 0s\n",
      "   600K .......... .......... .......... .......... .......... 59% 9.48M 0s\n",
      "   650K .......... .......... .......... .......... .......... 64% 9.09M 0s\n",
      "   700K .......... .......... .......... .......... .......... 68% 3.44M 0s\n",
      "   750K .......... .......... .......... .......... .......... 73% 17.1M 0s\n",
      "   800K .......... .......... .......... .......... .......... 78% 14.1M 0s\n",
      "   850K .......... .......... .......... .......... .......... 82% 14.0M 0s\n",
      "   900K .......... .......... .......... .......... .......... 87% 11.5M 0s\n",
      "   950K .......... .......... .......... .......... .......... 91% 4.03M 0s\n",
      "  1000K .......... .......... .......... .......... .......... 96% 4.33M 0s\n",
      "  1050K .......... .......... .......... .........            100% 12.1M=0.4s\n",
      "\n",
      "2025-01-23 13:21:00 (2.86 MB/s) - 'input.txt' saved [1115394/1115394]\n",
      "\n"
     ]
    }
   ],
   "source": [
    "!wget https://raw.githubusercontent.com/karpathy/char-rnn/refs/heads/master/data/tinyshakespeare/input.txt"
   ]
  },
  {
   "cell_type": "markdown",
   "metadata": {},
   "source": [
    "Load **data**"
   ]
  },
  {
   "cell_type": "code",
   "execution_count": 21,
   "metadata": {},
   "outputs": [
    {
     "data": {
      "text/plain": [
       "1115394"
      ]
     },
     "execution_count": 21,
     "metadata": {},
     "output_type": "execute_result"
    }
   ],
   "source": [
    "with open('input.txt', 'r') as f:\n",
    "    data = f.read()\n",
    "len(data)"
   ]
  },
  {
   "cell_type": "markdown",
   "metadata": {},
   "source": [
    "Train the **model**"
   ]
  },
  {
   "cell_type": "code",
   "execution_count": 24,
   "metadata": {},
   "outputs": [],
   "source": [
    "model = train_char_level_lm(data=data, block_size=4)"
   ]
  },
  {
   "cell_type": "markdown",
   "metadata": {},
   "source": [
    "Some queries"
   ]
  },
  {
   "cell_type": "code",
   "execution_count": 27,
   "metadata": {},
   "outputs": [
    {
     "data": {
      "text/plain": [
       "[(' ', 1.0)]"
      ]
     },
     "execution_count": 27,
     "metadata": {},
     "output_type": "execute_result"
    }
   ],
   "source": [
    "model['Hell']"
   ]
  },
  {
   "cell_type": "code",
   "execution_count": 26,
   "metadata": {},
   "outputs": [
    {
     "data": {
      "text/plain": [
       "[('l', 0.5), ('t', 0.5)]"
      ]
     },
     "execution_count": 26,
     "metadata": {},
     "output_type": "execute_result"
    }
   ],
   "source": [
    "model['tua ']"
   ]
  },
  {
   "cell_type": "code",
   "execution_count": 28,
   "metadata": {},
   "outputs": [
    {
     "data": {
      "text/plain": [
       "[(' ', 0.5578231292517006),\n",
       " ('u', 0.034013605442176874),\n",
       " (';', 0.013605442176870748),\n",
       " ('l', 0.10204081632653061),\n",
       " ('.', 0.06802721088435375),\n",
       " (',', 0.061224489795918366),\n",
       " (':', 0.013605442176870748),\n",
       " ('s', 0.08843537414965986),\n",
       " (\"'\", 0.006802721088435374),\n",
       " ('i', 0.013605442176870748),\n",
       " ('e', 0.006802721088435374),\n",
       " ('\\n', 0.027210884353741496),\n",
       " ('!', 0.006802721088435374)]"
      ]
     },
     "execution_count": 28,
     "metadata": {},
     "output_type": "execute_result"
    }
   ],
   "source": [
    "model['sing']"
   ]
  },
  {
   "cell_type": "markdown",
   "metadata": {},
   "source": [
    "### Sampling"
   ]
  },
  {
   "cell_type": "markdown",
   "metadata": {},
   "source": [
    "## Further reading\n",
    "\n",
    "1. Andrej Karpathy's post: <https://karpathy.github.io/2015/05/21/rnn-effectiveness/>"
   ]
  }
 ],
 "metadata": {
  "kernelspec": {
   "display_name": "Python 3",
   "language": "python",
   "name": "python3"
  },
  "language_info": {
   "codemirror_mode": {
    "name": "ipython",
    "version": 3
   },
   "file_extension": ".py",
   "mimetype": "text/x-python",
   "name": "python",
   "nbconvert_exporter": "python",
   "pygments_lexer": "ipython3",
   "version": "3.13.1"
  }
 },
 "nbformat": 4,
 "nbformat_minor": 2
}
