{
 "cells": [
  {
   "cell_type": "markdown",
   "metadata": {},
   "source": [
    "# An experiment/simulation to understand Simpson Paradox"
   ]
  },
  {
   "cell_type": "markdown",
   "metadata": {},
   "source": [
    "## Motivation\n",
    "\n",
    "Thông qua một ví dụ về thử nghiệm ngẫu nhiên có kiểm soát (RCT hay A/B test) trong một chiến dịch Marketing, ta sẽ thấy được:\n",
    "\n",
    "- Sự khác biệt giữa quan sát ngẫu nhiên trong quần thể (population) và khi có sự xuất hiện của 1 RCT;\n",
    "- Hạn chế của thống kê quy ước trong cả hai trường hợp -> tầm quan trọng của suy luận nhân quả.\n",
    "\n"
   ]
  },
  {
   "cell_type": "code",
   "execution_count": 20,
   "metadata": {},
   "outputs": [],
   "source": [
    "import numpy as np\n",
    "import pandas as pd\n",
    "\n",
    "import matplotlib.pyplot as plt\n",
    "import seaborn as sns\n",
    "\n",
    "sns.set_style(\"whitegrid\")\n",
    "sns.set_palette(\"Set1\")\n",
    "\n",
    "np.random.seed(42)"
   ]
  },
  {
   "cell_type": "markdown",
   "metadata": {},
   "source": [
    "## Scenario 1: Random observed data\n",
    "*Dữ liệu quan sát ngẫu nhiên*\n",
    "\n",
    "Marketer có trong tay 1 `DataFrame` gồm 2 biến binary:\n",
    "\n",
    "- `T`: 0 ~ không thực hiện chiến dịch quảng cáo mới, 1 ~ có thực hiện\n",
    "- `Y`: 0 ~ không mua hàng trong session đầu ngay sau chiến dịch, 1 ~ có mua (hoặc có click vào sản phẩm ~ CTR)."
   ]
  },
  {
   "cell_type": "code",
   "execution_count": 26,
   "metadata": {},
   "outputs": [],
   "source": [
    "def simulate_bin(\n",
    "    sample_size: int = 1000,\n",
    "    force_treatment: np.ndarray = None,\n",
    "    obs_confounder: bool = False,\n",
    ") -> pd.DataFrame:\n",
    "    \"\"\"\n",
    "    Simulate a binary outcome Y from a binary treatment T and a binary confounder C.\n",
    "    All are binaries\n",
    "\n",
    "    Causal Diagram:\n",
    "    Nodes: (C, T, Y)\n",
    "    Edges: (C -> T, C -> Y, T-> Y)\n",
    "\n",
    "    Args:\n",
    "    sample_size: size of the sample;\n",
    "    force_treatment: treatment or not;\n",
    "    obs_confounder: to show/observe confounder or not;\n",
    "\n",
    "    Return:\n",
    "    A 2-columns pandas dataframe if obs_confounder = False,\n",
    "    A 3-columns pandas dataframe if obs_confounder = True\n",
    "    \"\"\"\n",
    "    p_c = 0.5  # confounder prob\n",
    "    p_t_c = [0.8, 0.2]  # prob of treatment, with confounder c\n",
    "    p_y_tc = [0.9, 0.7, 0.3, 0.1] # prob of outcome, with treatment t and confounder c\n",
    "\n",
    "    # confounder\n",
    "    c = np.random.binomial(n=1, p=p_c, size=sample_size)\n",
    "\n",
    "    if force_treatment is not None:\n",
    "        assert len(force_treatment) == sample_size\n",
    "        t = force_treatment\n",
    "    else:\n",
    "        p_t = np.choose(c, p_t_c)\n",
    "        # https://numpy.org/doc/2.1/reference/generated/numpy.choose.html\n",
    "        # treatment\n",
    "        t = np.random.binomial(n=1, p=p_t, size=sample_size)\n",
    "\n",
    "    p_y = np.choose(c * 2 + t, p_y_tc)\n",
    "    # outcome\n",
    "    y = np.random.binomial(n=1, p=p_y, size=sample_size)\n",
    "\n",
    "    if obs_confounder:\n",
    "        return pd.DataFrame({\"T\": t, \"Y\": y, \"C\": c})\n",
    "\n",
    "    return pd.DataFrame({\"T\": t, \"Y\": y})"
   ]
  },
  {
   "cell_type": "markdown",
   "metadata": {},
   "source": [
    "Tạo mẫu dữ liệu với 1000 quan sát, không bắt buộc có treatment, không thể hiện confounder:"
   ]
  },
  {
   "cell_type": "code",
   "execution_count": 27,
   "metadata": {},
   "outputs": [
    {
     "data": {
      "application/vnd.microsoft.datawrangler.viewer.v0+json": {
       "columns": [
        {
         "name": "index",
         "rawType": "int64",
         "type": "integer"
        },
        {
         "name": "T",
         "rawType": "int32",
         "type": "integer"
        },
        {
         "name": "Y",
         "rawType": "int32",
         "type": "integer"
        }
       ],
       "conversionMethod": "pd.DataFrame",
       "ref": "bc5e2d34-6c0f-4fb4-9a80-4d5b5a23406b",
       "rows": [
        [
         "0",
         "0",
         "0"
        ],
        [
         "1",
         "1",
         "0"
        ],
        [
         "2",
         "1",
         "0"
        ],
        [
         "3",
         "0",
         "0"
        ],
        [
         "4",
         "0",
         "1"
        ]
       ],
       "shape": {
        "columns": 2,
        "rows": 5
       }
      },
      "text/html": [
       "<div>\n",
       "<style scoped>\n",
       "    .dataframe tbody tr th:only-of-type {\n",
       "        vertical-align: middle;\n",
       "    }\n",
       "\n",
       "    .dataframe tbody tr th {\n",
       "        vertical-align: top;\n",
       "    }\n",
       "\n",
       "    .dataframe thead th {\n",
       "        text-align: right;\n",
       "    }\n",
       "</style>\n",
       "<table border=\"1\" class=\"dataframe\">\n",
       "  <thead>\n",
       "    <tr style=\"text-align: right;\">\n",
       "      <th></th>\n",
       "      <th>T</th>\n",
       "      <th>Y</th>\n",
       "    </tr>\n",
       "  </thead>\n",
       "  <tbody>\n",
       "    <tr>\n",
       "      <th>0</th>\n",
       "      <td>0</td>\n",
       "      <td>0</td>\n",
       "    </tr>\n",
       "    <tr>\n",
       "      <th>1</th>\n",
       "      <td>1</td>\n",
       "      <td>0</td>\n",
       "    </tr>\n",
       "    <tr>\n",
       "      <th>2</th>\n",
       "      <td>1</td>\n",
       "      <td>0</td>\n",
       "    </tr>\n",
       "    <tr>\n",
       "      <th>3</th>\n",
       "      <td>0</td>\n",
       "      <td>0</td>\n",
       "    </tr>\n",
       "    <tr>\n",
       "      <th>4</th>\n",
       "      <td>0</td>\n",
       "      <td>1</td>\n",
       "    </tr>\n",
       "  </tbody>\n",
       "</table>\n",
       "</div>"
      ],
      "text/plain": [
       "   T  Y\n",
       "0  0  0\n",
       "1  1  0\n",
       "2  1  0\n",
       "3  0  0\n",
       "4  0  1"
      ]
     },
     "execution_count": 27,
     "metadata": {},
     "output_type": "execute_result"
    }
   ],
   "source": [
    "obs_data = simulate_bin(sample_size=1000, force_treatment=None, obs_confounder=False)\n",
    "obs_data.head()"
   ]
  },
  {
   "cell_type": "markdown",
   "metadata": {},
   "source": [
    "### Traditional statistics\n",
    "\n",
    "Một pivot table đơn giản để xem qua số liệu:"
   ]
  },
  {
   "cell_type": "code",
   "execution_count": 28,
   "metadata": {},
   "outputs": [
    {
     "data": {
      "application/vnd.microsoft.datawrangler.viewer.v0+json": {
       "columns": [
        {
         "name": "T",
         "rawType": "int32",
         "type": "integer"
        },
        {
         "name": "0",
         "rawType": "int64",
         "type": "integer"
        },
        {
         "name": "1",
         "rawType": "int64",
         "type": "integer"
        }
       ],
       "conversionMethod": "pd.DataFrame",
       "ref": "e483fe3f-4fa2-4aa8-b327-809842440d1b",
       "rows": [
        [
         "0",
         "276",
         "231"
        ],
        [
         "1",
         "202",
         "291"
        ]
       ],
       "shape": {
        "columns": 2,
        "rows": 2
       }
      },
      "text/html": [
       "<div>\n",
       "<style scoped>\n",
       "    .dataframe tbody tr th:only-of-type {\n",
       "        vertical-align: middle;\n",
       "    }\n",
       "\n",
       "    .dataframe tbody tr th {\n",
       "        vertical-align: top;\n",
       "    }\n",
       "\n",
       "    .dataframe thead th {\n",
       "        text-align: right;\n",
       "    }\n",
       "</style>\n",
       "<table border=\"1\" class=\"dataframe\">\n",
       "  <thead>\n",
       "    <tr style=\"text-align: right;\">\n",
       "      <th>Y</th>\n",
       "      <th>0</th>\n",
       "      <th>1</th>\n",
       "    </tr>\n",
       "    <tr>\n",
       "      <th>T</th>\n",
       "      <th></th>\n",
       "      <th></th>\n",
       "    </tr>\n",
       "  </thead>\n",
       "  <tbody>\n",
       "    <tr>\n",
       "      <th>0</th>\n",
       "      <td>276</td>\n",
       "      <td>231</td>\n",
       "    </tr>\n",
       "    <tr>\n",
       "      <th>1</th>\n",
       "      <td>202</td>\n",
       "      <td>291</td>\n",
       "    </tr>\n",
       "  </tbody>\n",
       "</table>\n",
       "</div>"
      ],
      "text/plain": [
       "Y    0    1\n",
       "T          \n",
       "0  276  231\n",
       "1  202  291"
      ]
     },
     "execution_count": 28,
     "metadata": {},
     "output_type": "execute_result"
    }
   ],
   "source": [
    "xtab = pd.crosstab(obs_data[\"T\"], obs_data[\"Y\"])\n",
    "\n",
    "xtab"
   ]
  },
  {
   "cell_type": "code",
   "execution_count": 29,
   "metadata": {},
   "outputs": [
    {
     "data": {
      "text/plain": [
       "T\n",
       "0    45.562130\n",
       "1    59.026369\n",
       "dtype: float64"
      ]
     },
     "execution_count": 29,
     "metadata": {},
     "output_type": "execute_result"
    }
   ],
   "source": [
    "100 * xtab[1] / xtab.aggregate(\"sum\", axis=1)"
   ]
  },
  {
   "cell_type": "code",
   "execution_count": 31,
   "metadata": {},
   "outputs": [
    {
     "data": {
      "text/plain": [
       "13.464239"
      ]
     },
     "execution_count": 31,
     "metadata": {},
     "output_type": "execute_result"
    }
   ],
   "source": [
    "59.026369 - 45.562130"
   ]
  },
  {
   "cell_type": "code",
   "execution_count": 32,
   "metadata": {},
   "outputs": [
    {
     "data": {
      "text/plain": [
       "'Avg effect: 13.46% : 7.32% to 19.61%'"
      ]
     },
     "execution_count": 32,
     "metadata": {},
     "output_type": "execute_result"
    }
   ],
   "source": [
    "def estimate_effect(ds):\n",
    "    base = ds[ds[\"T\"] == 0]\n",
    "    variant = ds[ds[\"T\"] == 1]\n",
    "\n",
    "    delta = variant.Y.mean() - base.Y.mean()\n",
    "\n",
    "    delta_err = 1.96 * np.sqrt(\n",
    "        variant.Y.var() / variant.shape[0] + base.Y.var() / base.shape[0]\n",
    "    )\n",
    "\n",
    "    return f\"Avg effect: {100 * delta:.2f}% : {100 * (delta - delta_err):.2f}% to {100 * (delta + delta_err):.2f}%\"\n",
    "\n",
    "\n",
    "estimate_effect(obs_data)"
   ]
  },
  {
   "cell_type": "markdown",
   "metadata": {},
   "source": [
    "Với khoảng tin cậy (CI) 95%, hiệu ứng trung bình là 13.46%. Xa hơn nữa, bạn Marketer thực hiện một kiểm định Chi square test, với ngưỡng ý nghĩa thống kê rất thấp là 0.001:"
   ]
  },
  {
   "cell_type": "code",
   "execution_count": 33,
   "metadata": {},
   "outputs": [
    {
     "name": "stdout",
     "output_type": "stream",
     "text": [
      "Có liên hệ ý nghĩa giữa T và Y, Chi2 = 17.624572, p_value = 0.000027\n"
     ]
    }
   ],
   "source": [
    "from scipy.stats import chi2_contingency\n",
    "\n",
    "\n",
    "def chi_square(xtab, thres=0.0001):\n",
    "    chi2_out = chi2_contingency(xtab)\n",
    "    if chi2_out[1] < thres:\n",
    "        print(\n",
    "            f\"Có liên hệ ý nghĩa giữa T và Y, Chi2 = {chi2_out[0]:02f}, p_value = {chi2_out[1]:02f}\"\n",
    "        )\n",
    "    else:\n",
    "        print(\n",
    "            f\"T và Y độc lập với nhau, Chi2 = {chi2_out[0]:02f}, p_value = {chi2_out[1]:02f}\"\n",
    "        )\n",
    "\n",
    "\n",
    "chi_square(xtab, thres=0.0001)"
   ]
  },
  {
   "cell_type": "markdown",
   "metadata": {},
   "source": [
    "Kết quả thật đẹp. Sếp gợi ý làm thêm mô hình Logistic để tính Odds_ratio. Ta sẽ làm như vậy:"
   ]
  },
  {
   "cell_type": "code",
   "execution_count": 34,
   "metadata": {},
   "outputs": [
    {
     "name": "stdout",
     "output_type": "stream",
     "text": [
      "Optimization terminated successfully.\n",
      "         Current function value: 0.683070\n",
      "         Iterations 4\n"
     ]
    },
    {
     "data": {
      "text/html": [
       "<table class=\"simpletable\">\n",
       "<caption>Logit Regression Results</caption>\n",
       "<tr>\n",
       "  <th>Dep. Variable:</th>           <td>Y</td>        <th>  No. Observations:  </th>  <td>  1000</td>  \n",
       "</tr>\n",
       "<tr>\n",
       "  <th>Model:</th>                 <td>Logit</td>      <th>  Df Residuals:      </th>  <td>   998</td>  \n",
       "</tr>\n",
       "<tr>\n",
       "  <th>Method:</th>                 <td>MLE</td>       <th>  Df Model:          </th>  <td>     1</td>  \n",
       "</tr>\n",
       "<tr>\n",
       "  <th>Date:</th>            <td>Fri, 02 May 2025</td> <th>  Pseudo R-squ.:     </th>  <td>0.01316</td> \n",
       "</tr>\n",
       "<tr>\n",
       "  <th>Time:</th>                <td>15:23:09</td>     <th>  Log-Likelihood:    </th> <td> -683.07</td> \n",
       "</tr>\n",
       "<tr>\n",
       "  <th>converged:</th>             <td>True</td>       <th>  LL-Null:           </th> <td> -692.18</td> \n",
       "</tr>\n",
       "<tr>\n",
       "  <th>Covariance Type:</th>     <td>nonrobust</td>    <th>  LLR p-value:       </th> <td>1.970e-05</td>\n",
       "</tr>\n",
       "</table>\n",
       "<table class=\"simpletable\">\n",
       "<tr>\n",
       "      <td></td>         <th>coef</th>     <th>std err</th>      <th>z</th>      <th>P>|z|</th>  <th>[0.025</th>    <th>0.975]</th>  \n",
       "</tr>\n",
       "<tr>\n",
       "  <th>Intercept</th> <td>   -0.1780</td> <td>    0.089</td> <td>   -1.996</td> <td> 0.046</td> <td>   -0.353</td> <td>   -0.003</td>\n",
       "</tr>\n",
       "<tr>\n",
       "  <th>T</th>         <td>    0.5430</td> <td>    0.128</td> <td>    4.248</td> <td> 0.000</td> <td>    0.293</td> <td>    0.794</td>\n",
       "</tr>\n",
       "</table>"
      ],
      "text/latex": [
       "\\begin{center}\n",
       "\\begin{tabular}{lclc}\n",
       "\\toprule\n",
       "\\textbf{Dep. Variable:}   &        Y         & \\textbf{  No. Observations:  } &     1000    \\\\\n",
       "\\textbf{Model:}           &      Logit       & \\textbf{  Df Residuals:      } &      998    \\\\\n",
       "\\textbf{Method:}          &       MLE        & \\textbf{  Df Model:          } &        1    \\\\\n",
       "\\textbf{Date:}            & Fri, 02 May 2025 & \\textbf{  Pseudo R-squ.:     } &  0.01316    \\\\\n",
       "\\textbf{Time:}            &     15:23:09     & \\textbf{  Log-Likelihood:    } &   -683.07   \\\\\n",
       "\\textbf{converged:}       &       True       & \\textbf{  LL-Null:           } &   -692.18   \\\\\n",
       "\\textbf{Covariance Type:} &    nonrobust     & \\textbf{  LLR p-value:       } & 1.970e-05   \\\\\n",
       "\\bottomrule\n",
       "\\end{tabular}\n",
       "\\begin{tabular}{lcccccc}\n",
       "                   & \\textbf{coef} & \\textbf{std err} & \\textbf{z} & \\textbf{P$> |$z$|$} & \\textbf{[0.025} & \\textbf{0.975]}  \\\\\n",
       "\\midrule\n",
       "\\textbf{Intercept} &      -0.1780  &        0.089     &    -1.996  &         0.046        &       -0.353    &       -0.003     \\\\\n",
       "\\textbf{T}         &       0.5430  &        0.128     &     4.248  &         0.000        &        0.293    &        0.794     \\\\\n",
       "\\bottomrule\n",
       "\\end{tabular}\n",
       "%\\caption{Logit Regression Results}\n",
       "\\end{center}"
      ],
      "text/plain": [
       "<class 'statsmodels.iolib.summary.Summary'>\n",
       "\"\"\"\n",
       "                           Logit Regression Results                           \n",
       "==============================================================================\n",
       "Dep. Variable:                      Y   No. Observations:                 1000\n",
       "Model:                          Logit   Df Residuals:                      998\n",
       "Method:                           MLE   Df Model:                            1\n",
       "Date:                Fri, 02 May 2025   Pseudo R-squ.:                 0.01316\n",
       "Time:                        15:23:09   Log-Likelihood:                -683.07\n",
       "converged:                       True   LL-Null:                       -692.18\n",
       "Covariance Type:            nonrobust   LLR p-value:                 1.970e-05\n",
       "==============================================================================\n",
       "                 coef    std err          z      P>|z|      [0.025      0.975]\n",
       "------------------------------------------------------------------------------\n",
       "Intercept     -0.1780      0.089     -1.996      0.046      -0.353      -0.003\n",
       "T              0.5430      0.128      4.248      0.000       0.293       0.794\n",
       "==============================================================================\n",
       "\"\"\""
      ]
     },
     "execution_count": 34,
     "metadata": {},
     "output_type": "execute_result"
    }
   ],
   "source": [
    "import statsmodels.formula.api as sm\n",
    "\n",
    "model_1 = sm.logit(data=obs_data, formula=\"Y ~ T\").fit()\n",
    "\n",
    "model_1.summary()"
   ]
  },
  {
   "cell_type": "code",
   "execution_count": 35,
   "metadata": {},
   "outputs": [
    {
     "name": "stdout",
     "output_type": "stream",
     "text": [
      "1.7211626125301187, 1.3404427904316814, 2.2122276626587873\n"
     ]
    }
   ],
   "source": [
    "print(f\"{np.exp(0.5430)}, {np.exp(0.293)}, {np.exp(0.794)}\")"
   ]
  },
  {
   "cell_type": "markdown",
   "metadata": {},
   "source": [
    "Vậy áp dụng chiến dịch quảng cáo mới có thể làm tăng"
   ]
  },
  {
   "cell_type": "markdown",
   "metadata": {},
   "source": [
    "## Scenario 2: RCT"
   ]
  },
  {
   "cell_type": "code",
   "execution_count": null,
   "metadata": {},
   "outputs": [
    {
     "data": {
      "application/vnd.microsoft.datawrangler.viewer.v0+json": {
       "columns": [
        {
         "name": "index",
         "rawType": "int64",
         "type": "integer"
        },
        {
         "name": "T",
         "rawType": "int64",
         "type": "integer"
        },
        {
         "name": "Y",
         "rawType": "int32",
         "type": "integer"
        }
       ],
       "conversionMethod": "pd.DataFrame",
       "ref": "58564890-543c-460d-ac04-48e1d419f84f",
       "rows": [
        [
         "0",
         "1",
         "1"
        ],
        [
         "1",
         "1",
         "1"
        ],
        [
         "2",
         "1",
         "1"
        ],
        [
         "3",
         "1",
         "1"
        ],
        [
         "4",
         "1",
         "0"
        ]
       ],
       "shape": {
        "columns": 2,
        "rows": 5
       }
      },
      "text/html": [
       "<div>\n",
       "<style scoped>\n",
       "    .dataframe tbody tr th:only-of-type {\n",
       "        vertical-align: middle;\n",
       "    }\n",
       "\n",
       "    .dataframe tbody tr th {\n",
       "        vertical-align: top;\n",
       "    }\n",
       "\n",
       "    .dataframe thead th {\n",
       "        text-align: right;\n",
       "    }\n",
       "</style>\n",
       "<table border=\"1\" class=\"dataframe\">\n",
       "  <thead>\n",
       "    <tr style=\"text-align: right;\">\n",
       "      <th></th>\n",
       "      <th>T</th>\n",
       "      <th>Y</th>\n",
       "    </tr>\n",
       "  </thead>\n",
       "  <tbody>\n",
       "    <tr>\n",
       "      <th>0</th>\n",
       "      <td>1</td>\n",
       "      <td>1</td>\n",
       "    </tr>\n",
       "    <tr>\n",
       "      <th>1</th>\n",
       "      <td>1</td>\n",
       "      <td>1</td>\n",
       "    </tr>\n",
       "    <tr>\n",
       "      <th>2</th>\n",
       "      <td>1</td>\n",
       "      <td>1</td>\n",
       "    </tr>\n",
       "    <tr>\n",
       "      <th>3</th>\n",
       "      <td>1</td>\n",
       "      <td>1</td>\n",
       "    </tr>\n",
       "    <tr>\n",
       "      <th>4</th>\n",
       "      <td>1</td>\n",
       "      <td>0</td>\n",
       "    </tr>\n",
       "  </tbody>\n",
       "</table>\n",
       "</div>"
      ],
      "text/plain": [
       "   T  Y\n",
       "0  1  1\n",
       "1  1  1\n",
       "2  1  1\n",
       "3  1  1\n",
       "4  1  0"
      ]
     },
     "execution_count": 12,
     "metadata": {},
     "output_type": "execute_result"
    }
   ],
   "source": [
    "def simulate_AB_test(simulate_bin, sample_size=1000):\n",
    "    treat_size = int(sample_size / 2)\n",
    "    control_size = sample_size - treat_size\n",
    "\n",
    "    forced_treatment = np.concatenate(\n",
    "        [np.ones(treat_size), np.zeros(control_size)]\n",
    "    ).astype(\"int\")\n",
    "    rct_data = simulate_bin(sample_size=sample_size, force_treatment=forced_treatment)\n",
    "\n",
    "    return rct_data\n",
    "\n",
    "\n",
    "rct_data = simulate_AB_test(simulate_bin, sample_size=1000)\n",
    "\n",
    "rct_data.head()"
   ]
  },
  {
   "cell_type": "code",
   "execution_count": null,
   "metadata": {},
   "outputs": [
    {
     "data": {
      "application/vnd.microsoft.datawrangler.viewer.v0+json": {
       "columns": [
        {
         "name": "T",
         "rawType": "int64",
         "type": "integer"
        },
        {
         "name": "0",
         "rawType": "int64",
         "type": "integer"
        },
        {
         "name": "1",
         "rawType": "int64",
         "type": "integer"
        }
       ],
       "conversionMethod": "pd.DataFrame",
       "ref": "4b09ecc7-4bd6-45c9-8f55-d6e796e583e9",
       "rows": [
        [
         "0",
         "299",
         "201"
        ],
        [
         "1",
         "211",
         "289"
        ]
       ],
       "shape": {
        "columns": 2,
        "rows": 2
       }
      },
      "text/html": [
       "<div>\n",
       "<style scoped>\n",
       "    .dataframe tbody tr th:only-of-type {\n",
       "        vertical-align: middle;\n",
       "    }\n",
       "\n",
       "    .dataframe tbody tr th {\n",
       "        vertical-align: top;\n",
       "    }\n",
       "\n",
       "    .dataframe thead th {\n",
       "        text-align: right;\n",
       "    }\n",
       "</style>\n",
       "<table border=\"1\" class=\"dataframe\">\n",
       "  <thead>\n",
       "    <tr style=\"text-align: right;\">\n",
       "      <th>Y</th>\n",
       "      <th>0</th>\n",
       "      <th>1</th>\n",
       "    </tr>\n",
       "    <tr>\n",
       "      <th>T</th>\n",
       "      <th></th>\n",
       "      <th></th>\n",
       "    </tr>\n",
       "  </thead>\n",
       "  <tbody>\n",
       "    <tr>\n",
       "      <th>0</th>\n",
       "      <td>299</td>\n",
       "      <td>201</td>\n",
       "    </tr>\n",
       "    <tr>\n",
       "      <th>1</th>\n",
       "      <td>211</td>\n",
       "      <td>289</td>\n",
       "    </tr>\n",
       "  </tbody>\n",
       "</table>\n",
       "</div>"
      ],
      "text/plain": [
       "Y    0    1\n",
       "T          \n",
       "0  299  201\n",
       "1  211  289"
      ]
     },
     "execution_count": 13,
     "metadata": {},
     "output_type": "execute_result"
    }
   ],
   "source": [
    "xtab_rct = pd.crosstab(rct_data[\"T\"], rct_data[\"Y\"])\n",
    "\n",
    "xtab_rct"
   ]
  },
  {
   "cell_type": "code",
   "execution_count": null,
   "metadata": {},
   "outputs": [
    {
     "data": {
      "text/plain": [
       "'Avg effect: 17.60% : 11.49% to 23.71%'"
      ]
     },
     "execution_count": 14,
     "metadata": {},
     "output_type": "execute_result"
    }
   ],
   "source": [
    "estimate_effect(rct_data)"
   ]
  },
  {
   "cell_type": "code",
   "execution_count": null,
   "metadata": {},
   "outputs": [
    {
     "name": "stdout",
     "output_type": "stream",
     "text": [
      "Có liên hệ ý nghĩa giữa T và Y, Chi2 = 30.288115, p_value = 0.000000\n"
     ]
    }
   ],
   "source": [
    "chi_square(xtab_rct, thres=0.001)"
   ]
  },
  {
   "cell_type": "code",
   "execution_count": null,
   "metadata": {},
   "outputs": [
    {
     "name": "stdout",
     "output_type": "stream",
     "text": [
      "Optimization terminated successfully.\n",
      "         Current function value: 0.677372\n",
      "         Iterations 4\n"
     ]
    },
    {
     "data": {
      "text/html": [
       "<table class=\"simpletable\">\n",
       "<caption>Logit Regression Results</caption>\n",
       "<tr>\n",
       "  <th>Dep. Variable:</th>           <td>Y</td>        <th>  No. Observations:  </th>  <td>  1000</td>  \n",
       "</tr>\n",
       "<tr>\n",
       "  <th>Model:</th>                 <td>Logit</td>      <th>  Df Residuals:      </th>  <td>   998</td>  \n",
       "</tr>\n",
       "<tr>\n",
       "  <th>Method:</th>                 <td>MLE</td>       <th>  Df Model:          </th>  <td>     1</td>  \n",
       "</tr>\n",
       "<tr>\n",
       "  <th>Date:</th>            <td>Fri, 02 May 2025</td> <th>  Pseudo R-squ.:     </th>  <td>0.02248</td> \n",
       "</tr>\n",
       "<tr>\n",
       "  <th>Time:</th>                <td>10:25:17</td>     <th>  Log-Likelihood:    </th> <td> -677.37</td> \n",
       "</tr>\n",
       "<tr>\n",
       "  <th>converged:</th>             <td>True</td>       <th>  LL-Null:           </th> <td> -692.95</td> \n",
       "</tr>\n",
       "<tr>\n",
       "  <th>Covariance Type:</th>     <td>nonrobust</td>    <th>  LLR p-value:       </th> <td>2.388e-08</td>\n",
       "</tr>\n",
       "</table>\n",
       "<table class=\"simpletable\">\n",
       "<tr>\n",
       "      <td></td>         <th>coef</th>     <th>std err</th>      <th>z</th>      <th>P>|z|</th>  <th>[0.025</th>    <th>0.975]</th>  \n",
       "</tr>\n",
       "<tr>\n",
       "  <th>Intercept</th> <td>   -0.3971</td> <td>    0.091</td> <td>   -4.354</td> <td> 0.000</td> <td>   -0.576</td> <td>   -0.218</td>\n",
       "</tr>\n",
       "<tr>\n",
       "  <th>T</th>         <td>    0.7117</td> <td>    0.129</td> <td>    5.537</td> <td> 0.000</td> <td>    0.460</td> <td>    0.964</td>\n",
       "</tr>\n",
       "</table>"
      ],
      "text/latex": [
       "\\begin{center}\n",
       "\\begin{tabular}{lclc}\n",
       "\\toprule\n",
       "\\textbf{Dep. Variable:}   &        Y         & \\textbf{  No. Observations:  } &     1000    \\\\\n",
       "\\textbf{Model:}           &      Logit       & \\textbf{  Df Residuals:      } &      998    \\\\\n",
       "\\textbf{Method:}          &       MLE        & \\textbf{  Df Model:          } &        1    \\\\\n",
       "\\textbf{Date:}            & Fri, 02 May 2025 & \\textbf{  Pseudo R-squ.:     } &  0.02248    \\\\\n",
       "\\textbf{Time:}            &     10:25:17     & \\textbf{  Log-Likelihood:    } &   -677.37   \\\\\n",
       "\\textbf{converged:}       &       True       & \\textbf{  LL-Null:           } &   -692.95   \\\\\n",
       "\\textbf{Covariance Type:} &    nonrobust     & \\textbf{  LLR p-value:       } & 2.388e-08   \\\\\n",
       "\\bottomrule\n",
       "\\end{tabular}\n",
       "\\begin{tabular}{lcccccc}\n",
       "                   & \\textbf{coef} & \\textbf{std err} & \\textbf{z} & \\textbf{P$> |$z$|$} & \\textbf{[0.025} & \\textbf{0.975]}  \\\\\n",
       "\\midrule\n",
       "\\textbf{Intercept} &      -0.3971  &        0.091     &    -4.354  &         0.000        &       -0.576    &       -0.218     \\\\\n",
       "\\textbf{T}         &       0.7117  &        0.129     &     5.537  &         0.000        &        0.460    &        0.964     \\\\\n",
       "\\bottomrule\n",
       "\\end{tabular}\n",
       "%\\caption{Logit Regression Results}\n",
       "\\end{center}"
      ],
      "text/plain": [
       "<class 'statsmodels.iolib.summary.Summary'>\n",
       "\"\"\"\n",
       "                           Logit Regression Results                           \n",
       "==============================================================================\n",
       "Dep. Variable:                      Y   No. Observations:                 1000\n",
       "Model:                          Logit   Df Residuals:                      998\n",
       "Method:                           MLE   Df Model:                            1\n",
       "Date:                Fri, 02 May 2025   Pseudo R-squ.:                 0.02248\n",
       "Time:                        10:25:17   Log-Likelihood:                -677.37\n",
       "converged:                       True   LL-Null:                       -692.95\n",
       "Covariance Type:            nonrobust   LLR p-value:                 2.388e-08\n",
       "==============================================================================\n",
       "                 coef    std err          z      P>|z|      [0.025      0.975]\n",
       "------------------------------------------------------------------------------\n",
       "Intercept     -0.3971      0.091     -4.354      0.000      -0.576      -0.218\n",
       "T              0.7117      0.129      5.537      0.000       0.460       0.964\n",
       "==============================================================================\n",
       "\"\"\""
      ]
     },
     "execution_count": 16,
     "metadata": {},
     "output_type": "execute_result"
    }
   ],
   "source": [
    "model_2 = sm.logit(data=rct_data, formula=\"Y ~ T\").fit()\n",
    "\n",
    "model_2.summary()"
   ]
  },
  {
   "cell_type": "markdown",
   "metadata": {},
   "source": [
    "## Explanation\n",
    "\n",
    "Tại sao kết quả đảo ngược hoàn toàn giữa (1) quan sát - hồi cứu, và (2) thử nghiệm ngẫu nhiên có đối chứng?\n",
    "\n",
    "Thứ ta vừa chứng kiến là một trường hợp của nghịch lý Simpson. Trong cả 2 trường hợp, giá trị của `T` và `Y` được sinh ra từ một hệ thống có cấu trúc như nhau. xác suất `T = 1` phụ thuộc vào một biến `Z` và biến `Z` này cũng có liên hệ với `Y`.\n",
    "\n",
    "Vậy `Z` là 1 confounder làm nhiễu kết quả của hiệu ứng can thiệt `Delta = Y|(T=1) - Y|(T=0)`. Trong ví dụ vừa rồi, `Z` bị ẩn đi tuy nhiên vẫn luôn chi phối `T` và `Y`, không phải lúc nào người ta cũng ý thức được điều này."
   ]
  },
  {
   "cell_type": "code",
   "execution_count": null,
   "metadata": {},
   "outputs": [
    {
     "data": {
      "image/png": "[encoded data removed]",
      "text/plain": [
       "<Figure size 640x480 with 1 Axes>"
      ]
     },
     "metadata": {},
     "output_type": "display_data"
    }
   ],
   "source": [
    "import networkx as nx\n",
    "from dowhy import gcm\n",
    "\n",
    "# Create a causal graph using networkx and DoWhy's gcm module\n",
    "model_obs = gcm.StructuralCausalModel(\n",
    "    nx.DiGraph(\n",
    "        [\n",
    "            (\"Confounder\", \"Treatment\"),\n",
    "            (\"Confounder\", \"Outcome\"),\n",
    "            (\"Treatment\", \"Outcome\"),\n",
    "        ]\n",
    "    )\n",
    ")\n",
    "\n",
    "# Visualize the graph (requires matplotlib)\n",
    "nx.draw_networkx(model_obs.graph, arrows=True, with_labels=True)\n",
    "plt.show()\n"
   ]
  },
  {
   "cell_type": "code",
   "execution_count": 46,
   "metadata": {},
   "outputs": [
    {
     "data": {
      "image/png": "[encoded data removed]",
      "text/plain": [
       "<Figure size 600x400 with 1 Axes>"
      ]
     },
     "metadata": {},
     "output_type": "display_data"
    }
   ],
   "source": [
    "intervention_graph = model_obs.graph.copy()\n",
    "incoming_edges = list(intervention_graph.in_edges('Treatment'))\n",
    "intervention_graph.remove_edges_from(incoming_edges)\n",
    "model_rct = gcm.StructuralCausalModel(intervention_graph)\n",
    "plt.figure(figsize=(6,4))\n",
    "nx.draw_networkx(model_rct.graph, arrows=True, with_labels=True)\n",
    "plt.title('model_rct')\n",
    "plt.show()"
   ]
  },
  {
   "cell_type": "code",
   "execution_count": 36,
   "metadata": {},
   "outputs": [
    {
     "data": {
      "application/vnd.microsoft.datawrangler.viewer.v0+json": {
       "columns": [
        {
         "name": "index",
         "rawType": "int64",
         "type": "integer"
        },
        {
         "name": "T",
         "rawType": "int64",
         "type": "integer"
        },
        {
         "name": "Y",
         "rawType": "int32",
         "type": "integer"
        },
        {
         "name": "C",
         "rawType": "int32",
         "type": "integer"
        }
       ],
       "conversionMethod": "pd.DataFrame",
       "ref": "04ba6ac1-d0c7-4454-b731-96d8ad5f0c4e",
       "rows": [
        [
         "0",
         "1",
         "0",
         "0"
        ],
        [
         "1",
         "1",
         "0",
         "1"
        ],
        [
         "2",
         "1",
         "0",
         "0"
        ],
        [
         "3",
         "1",
         "1",
         "1"
        ],
        [
         "4",
         "1",
         "0",
         "0"
        ]
       ],
       "shape": {
        "columns": 3,
        "rows": 5
       }
      },
      "text/html": [
       "<div>\n",
       "<style scoped>\n",
       "    .dataframe tbody tr th:only-of-type {\n",
       "        vertical-align: middle;\n",
       "    }\n",
       "\n",
       "    .dataframe tbody tr th {\n",
       "        vertical-align: top;\n",
       "    }\n",
       "\n",
       "    .dataframe thead th {\n",
       "        text-align: right;\n",
       "    }\n",
       "</style>\n",
       "<table border=\"1\" class=\"dataframe\">\n",
       "  <thead>\n",
       "    <tr style=\"text-align: right;\">\n",
       "      <th></th>\n",
       "      <th>T</th>\n",
       "      <th>Y</th>\n",
       "      <th>C</th>\n",
       "    </tr>\n",
       "  </thead>\n",
       "  <tbody>\n",
       "    <tr>\n",
       "      <th>0</th>\n",
       "      <td>1</td>\n",
       "      <td>0</td>\n",
       "      <td>0</td>\n",
       "    </tr>\n",
       "    <tr>\n",
       "      <th>1</th>\n",
       "      <td>1</td>\n",
       "      <td>0</td>\n",
       "      <td>1</td>\n",
       "    </tr>\n",
       "    <tr>\n",
       "      <th>2</th>\n",
       "      <td>1</td>\n",
       "      <td>0</td>\n",
       "      <td>0</td>\n",
       "    </tr>\n",
       "    <tr>\n",
       "      <th>3</th>\n",
       "      <td>1</td>\n",
       "      <td>1</td>\n",
       "      <td>1</td>\n",
       "    </tr>\n",
       "    <tr>\n",
       "      <th>4</th>\n",
       "      <td>1</td>\n",
       "      <td>0</td>\n",
       "      <td>0</td>\n",
       "    </tr>\n",
       "  </tbody>\n",
       "</table>\n",
       "</div>"
      ],
      "text/plain": [
       "   T  Y  C\n",
       "0  1  0  0\n",
       "1  1  0  1\n",
       "2  1  0  0\n",
       "3  1  1  1\n",
       "4  1  0  0"
      ]
     },
     "execution_count": 36,
     "metadata": {},
     "output_type": "execute_result"
    }
   ],
   "source": [
    "def simulate_AB_test_with_C(simulate_bin, sample_size=1000):\n",
    "    treat_size = int(sample_size / 2)\n",
    "    control_size = sample_size - treat_size\n",
    "\n",
    "    forced_treatment = np.concatenate(\n",
    "        [np.ones(treat_size), np.zeros(control_size)]\n",
    "    ).astype(\"int\")\n",
    "    rct_data = simulate_bin(sample_size=sample_size\n",
    "                            , force_treatment=forced_treatment\n",
    "                            , obs_confounder=True)\n",
    "\n",
    "    return rct_data\n",
    "\n",
    "\n",
    "rct_with_c_data = simulate_AB_test_with_C(simulate_bin, sample_size=1000)\n",
    "\n",
    "rct_with_c_data.head()"
   ]
  },
  {
   "cell_type": "code",
   "execution_count": 38,
   "metadata": {},
   "outputs": [],
   "source": [
    "df_c0 = rct_with_c_data[rct_with_c_data.C == 0]\n",
    "df_c1 = rct_with_c_data[rct_with_c_data.C == 1]"
   ]
  },
  {
   "cell_type": "code",
   "execution_count": 39,
   "metadata": {},
   "outputs": [
    {
     "data": {
      "text/plain": [
       "'Avg effect: 19.55% : 12.66% to 26.45%'"
      ]
     },
     "execution_count": 39,
     "metadata": {},
     "output_type": "execute_result"
    }
   ],
   "source": [
    "estimate_effect(df_c0)"
   ]
  },
  {
   "cell_type": "code",
   "execution_count": 40,
   "metadata": {},
   "outputs": [
    {
     "data": {
      "text/plain": [
       "'Avg effect: 18.38% : 11.90% to 24.85%'"
      ]
     },
     "execution_count": 40,
     "metadata": {},
     "output_type": "execute_result"
    }
   ],
   "source": [
    "estimate_effect(df_c1)"
   ]
  },
  {
   "cell_type": "code",
   "execution_count": 41,
   "metadata": {},
   "outputs": [
    {
     "name": "stdout",
     "output_type": "stream",
     "text": [
      "Optimization terminated successfully.\n",
      "         Current function value: 0.457868\n",
      "         Iterations 6\n"
     ]
    },
    {
     "data": {
      "text/html": [
       "<table class=\"simpletable\">\n",
       "<caption>Logit Regression Results</caption>\n",
       "<tr>\n",
       "  <th>Dep. Variable:</th>           <td>Y</td>        <th>  No. Observations:  </th>   <td>  1000</td>  \n",
       "</tr>\n",
       "<tr>\n",
       "  <th>Model:</th>                 <td>Logit</td>      <th>  Df Residuals:      </th>   <td>   997</td>  \n",
       "</tr>\n",
       "<tr>\n",
       "  <th>Method:</th>                 <td>MLE</td>       <th>  Df Model:          </th>   <td>     2</td>  \n",
       "</tr>\n",
       "<tr>\n",
       "  <th>Date:</th>            <td>Fri, 02 May 2025</td> <th>  Pseudo R-squ.:     </th>   <td>0.3390</td>  \n",
       "</tr>\n",
       "<tr>\n",
       "  <th>Time:</th>                <td>11:42:33</td>     <th>  Log-Likelihood:    </th>  <td> -457.87</td> \n",
       "</tr>\n",
       "<tr>\n",
       "  <th>converged:</th>             <td>True</td>       <th>  LL-Null:           </th>  <td> -692.70</td> \n",
       "</tr>\n",
       "<tr>\n",
       "  <th>Covariance Type:</th>     <td>nonrobust</td>    <th>  LLR p-value:       </th> <td>1.035e-102</td>\n",
       "</tr>\n",
       "</table>\n",
       "<table class=\"simpletable\">\n",
       "<tr>\n",
       "      <td></td>         <th>coef</th>     <th>std err</th>      <th>z</th>      <th>P>|z|</th>  <th>[0.025</th>    <th>0.975]</th>  \n",
       "</tr>\n",
       "<tr>\n",
       "  <th>Intercept</th> <td>   -2.1191</td> <td>    0.169</td> <td>  -12.539</td> <td> 0.000</td> <td>   -2.450</td> <td>   -1.788</td>\n",
       "</tr>\n",
       "<tr>\n",
       "  <th>T</th>         <td>    1.3252</td> <td>    0.181</td> <td>    7.310</td> <td> 0.000</td> <td>    0.970</td> <td>    1.681</td>\n",
       "</tr>\n",
       "<tr>\n",
       "  <th>C</th>         <td>    3.1613</td> <td>    0.182</td> <td>   17.387</td> <td> 0.000</td> <td>    2.805</td> <td>    3.518</td>\n",
       "</tr>\n",
       "</table>"
      ],
      "text/latex": [
       "\\begin{center}\n",
       "\\begin{tabular}{lclc}\n",
       "\\toprule\n",
       "\\textbf{Dep. Variable:}   &        Y         & \\textbf{  No. Observations:  } &     1000    \\\\\n",
       "\\textbf{Model:}           &      Logit       & \\textbf{  Df Residuals:      } &      997    \\\\\n",
       "\\textbf{Method:}          &       MLE        & \\textbf{  Df Model:          } &        2    \\\\\n",
       "\\textbf{Date:}            & Fri, 02 May 2025 & \\textbf{  Pseudo R-squ.:     } &   0.3390    \\\\\n",
       "\\textbf{Time:}            &     11:42:33     & \\textbf{  Log-Likelihood:    } &   -457.87   \\\\\n",
       "\\textbf{converged:}       &       True       & \\textbf{  LL-Null:           } &   -692.70   \\\\\n",
       "\\textbf{Covariance Type:} &    nonrobust     & \\textbf{  LLR p-value:       } & 1.035e-102  \\\\\n",
       "\\bottomrule\n",
       "\\end{tabular}\n",
       "\\begin{tabular}{lcccccc}\n",
       "                   & \\textbf{coef} & \\textbf{std err} & \\textbf{z} & \\textbf{P$> |$z$|$} & \\textbf{[0.025} & \\textbf{0.975]}  \\\\\n",
       "\\midrule\n",
       "\\textbf{Intercept} &      -2.1191  &        0.169     &   -12.539  &         0.000        &       -2.450    &       -1.788     \\\\\n",
       "\\textbf{T}         &       1.3252  &        0.181     &     7.310  &         0.000        &        0.970    &        1.681     \\\\\n",
       "\\textbf{C}         &       3.1613  &        0.182     &    17.387  &         0.000        &        2.805    &        3.518     \\\\\n",
       "\\bottomrule\n",
       "\\end{tabular}\n",
       "%\\caption{Logit Regression Results}\n",
       "\\end{center}"
      ],
      "text/plain": [
       "<class 'statsmodels.iolib.summary.Summary'>\n",
       "\"\"\"\n",
       "                           Logit Regression Results                           \n",
       "==============================================================================\n",
       "Dep. Variable:                      Y   No. Observations:                 1000\n",
       "Model:                          Logit   Df Residuals:                      997\n",
       "Method:                           MLE   Df Model:                            2\n",
       "Date:                Fri, 02 May 2025   Pseudo R-squ.:                  0.3390\n",
       "Time:                        11:42:33   Log-Likelihood:                -457.87\n",
       "converged:                       True   LL-Null:                       -692.70\n",
       "Covariance Type:            nonrobust   LLR p-value:                1.035e-102\n",
       "==============================================================================\n",
       "                 coef    std err          z      P>|z|      [0.025      0.975]\n",
       "------------------------------------------------------------------------------\n",
       "Intercept     -2.1191      0.169    -12.539      0.000      -2.450      -1.788\n",
       "T              1.3252      0.181      7.310      0.000       0.970       1.681\n",
       "C              3.1613      0.182     17.387      0.000       2.805       3.518\n",
       "==============================================================================\n",
       "\"\"\""
      ]
     },
     "execution_count": 41,
     "metadata": {},
     "output_type": "execute_result"
    }
   ],
   "source": [
    "model_3 = sm.logit(data=rct_with_c_data, formula='Y ~ T + C').fit()\n",
    "\n",
    "model_3.summary()"
   ]
  },
  {
   "cell_type": "markdown",
   "metadata": {},
   "source": [
    "## Backdoor adjustment with `DoWhy`"
   ]
  },
  {
   "cell_type": "code",
   "execution_count": 42,
   "metadata": {},
   "outputs": [],
   "source": [
    "rct_with_c_data['T'] = rct_with_c_data['T'].astype('bool')"
   ]
  },
  {
   "cell_type": "code",
   "execution_count": 43,
   "metadata": {},
   "outputs": [],
   "source": [
    "dg = 'digraph {T->Y; C-> Y; C->T}'\n",
    "\n",
    "from dowhy import CausalModel\n",
    "\n",
    "model = CausalModel(rct_with_c_data,\n",
    "                    treatment = ['T'],\n",
    "                    outcome = ['Y'],\n",
    "                    graph = dg)"
   ]
  },
  {
   "cell_type": "code",
   "execution_count": 44,
   "metadata": {},
   "outputs": [],
   "source": [
    "identified_estimand = model.identify_effect()"
   ]
  },
  {
   "cell_type": "code",
   "execution_count": 45,
   "metadata": {},
   "outputs": [
    {
     "name": "stdout",
     "output_type": "stream",
     "text": [
      "*** Causal Estimate ***\n",
      "\n",
      "## Identified estimand\n",
      "Estimand type: EstimandType.NONPARAMETRIC_ATE\n",
      "\n",
      "### Estimand : 1\n",
      "Estimand name: backdoor\n",
      "Estimand expression:\n",
      " d          \n",
      "────(E[Y|C])\n",
      "d[T]        \n",
      "Estimand assumption 1, Unconfoundedness: If U→{T} and U→Y then P(Y|T,C,U) = P(Y|T,C)\n",
      "\n",
      "## Realized estimand\n",
      "b: Y~T+C\n",
      "Target units: att\n",
      "\n",
      "## Estimate\n",
      "Mean value: 0.1897403158450535\n",
      "\n",
      "Hiệu ứng can thiệp = 0.1897403158450535\n"
     ]
    }
   ],
   "source": [
    "causal_esimate_strat = model.estimate_effect(identified_estimand,\n",
    "                                             method_name = 'backdoor.propensity_score_stratification',\n",
    "                                             target_units = 'att')\n",
    "\n",
    "print(causal_esimate_strat)\n",
    "print(\"Hiệu ứng can thiệp = \" + str(causal_esimate_strat.value))\n"
   ]
  },
  {
   "cell_type": "markdown",
   "metadata": {},
   "source": [
    "## Conclusion\n",
    "\n",
    "1. Dữ liệu bản thân nó không quan trọng bằng **quá trình/cơ chế** sinh dữ liệu;\n",
    "2. Khi thực hiện RCT, cần chú ý tới **confounders**. Đồng thời RCT cũng sẽ ảnh hưởng trực tiếp đến tính ngẫu nhiên của dữ liệu (ta đã thay đổi quá khứ);\n",
    "3. **Association/Correlation** khác/không tương đương với **Causal relationship**;\n",
    "4. Simpson paradox là một trường hợp cực đoan khi RCT không kiểm soát tốt confounders, vi phạm giả định về **tính độc lập có điều kiện** của can thiệp (treatment);\n",
    "5. Nếu quy trình phân tích không được dẫn đường bởi quy luật nhân quả, rất dễ rơi vào bẫy nghịch lý, dẫn đến **quyết định sai lầm**."
   ]
  },
  {
   "cell_type": "markdown",
   "metadata": {},
   "source": [
    "## References\n",
    "\n",
    "- BS Le Ngoc Kha Nhi: <https://www.lengockhanhi.com/post/ngh%E1%BB%8Bch-l%C3%BD-simpson>"
   ]
  }
 ],
 "metadata": {
  "kernelspec": {
   "display_name": "base",
   "language": "python",
   "name": "python3"
  },
  "language_info": {
   "codemirror_mode": {
    "name": "ipython",
    "version": 3
   },
   "file_extension": ".py",
   "mimetype": "text/x-python",
   "name": "python",
   "nbconvert_exporter": "python",
   "pygments_lexer": "ipython3",
   "version": "3.12.8"
  }
 },
 "nbformat": 4,
 "nbformat_minor": 2
}
