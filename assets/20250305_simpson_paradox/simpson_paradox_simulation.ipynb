{
 "cells": [
  {
   "cell_type": "markdown",
   "metadata": {},
   "source": [
    "# An experiment/simulation to understand Simpson Paradox"
   ]
  },
  {
   "cell_type": "markdown",
   "metadata": {},
   "source": [
    "## Motivation\n",
    "\n",
    "Thông qua một ví dụ về thử nghiệm ngẫu nhiên có kiểm soát (RCT hay A/B test) trong một chiến dịch Marketing, ta sẽ thấy được:\n",
    "\n",
    "- Sự khác biệt giữa quan sát ngẫu nhiên trong quần thể (population) và khi có sự xuất hiện của 1 RCT;\n",
    "- Hạn chế của thống kê quy ước trong cả hai trường hợp -> tầm quan trọng của suy luận nhân quả.\n",
    "\n"
   ]
  },
  {
   "cell_type": "code",
   "execution_count": 1,
   "metadata": {},
   "outputs": [],
   "source": [
    "import numpy as np\n",
    "import pandas as pd\n",
    "\n",
    "import matplotlib.pyplot as plt\n",
    "import seaborn as sns\n",
    "\n",
    "sns.set_style(\"whitegrid\")\n",
    "sns.set_palette(\"Set1\")"
   ]
  },
  {
   "cell_type": "markdown",
   "metadata": {},
   "source": [
    "## Scenario 1: Random observed data\n",
    "\n",
    "Marketer có trong tay 1 `DataFrame` gồm 2 biến binary:\n",
    "\n",
    "- `T`: 0 ~ không thực hiện chiến dịch quảng cáo mới, 1 ~ có thực hiện\n",
    "- `Y`: 0 ~ không mua hàng trong session đầu ngay sau chiến dịch, 1 ~ có mua (hoặc có click vào sản phẩm ~ CTR)."
   ]
  },
  {
   "cell_type": "code",
   "execution_count": 2,
   "metadata": {},
   "outputs": [],
   "source": [
    "def simulate_bin(\n",
    "    sample_size: int = 1000,\n",
    "    force_treatment: np.ndarray = None,\n",
    "    obs_confouder: bool = False,\n",
    ") -> pd.DataFrame:\n",
    "    \"\"\"\n",
    "    Simulate a binary outcome Y from a binary treatment T and a binary confounder C.\n",
    "    All are binaries\n",
    "\n",
    "    Causal Diagram:\n",
    "    Nodes: (C, T, Y)\n",
    "    Edges: (C -> T, C -> Y, T-> Y)\n",
    "\n",
    "    Args:\n",
    "    sample_size: size of the sample;\n",
    "    force_treatment: treatment or not;\n",
    "    obs_confounder: to show/observe confounder or not;\n",
    "\n",
    "    Return:\n",
    "    A 2-columns pandas dataframe if obs_confounder = False,\n",
    "    A 3-columns pandas dataframe if obs_confounder = True\n",
    "    \"\"\"\n",
    "    p_c = 0.5  # confounder prob\n",
    "    p_t_c = [0.8, 0.2]  # treatment and control portion\n",
    "    p_y_tc = [0.1, 0.3, 0.7, 0.9]\n",
    "\n",
    "    # confounder\n",
    "    c = np.random.binomial(n=1, p=p_c, size=sample_size)\n",
    "\n",
    "    if force_treatment is not None:\n",
    "        assert len(force_treatment) == sample_size\n",
    "        t = force_treatment\n",
    "    else:\n",
    "        p_t = np.choose(c, p_t_c)\n",
    "        # https://numpy.org/doc/2.1/reference/generated/numpy.choose.html\n",
    "        t = np.random.binomial(n=1, p=p_t, size=sample_size)\n",
    "\n",
    "    p_y = np.choose(c * 2 + t, p_y_tc)\n",
    "    y = np.random.binomial(n=1, p=p_y, size=sample_size)\n",
    "\n",
    "    if obs_confouder:\n",
    "        return pd.DataFrame({\"T\": t, \"Y\": y, \"C\": c})\n",
    "\n",
    "    return pd.DataFrame({\"T\": t, \"Y\": y})"
   ]
  },
  {
   "cell_type": "markdown",
   "metadata": {},
   "source": [
    "Tạo mẫu dữ liệu với 1000 quan sát, không bắt buộc có treatment, không thể hiện confounder:"
   ]
  },
  {
   "cell_type": "code",
   "execution_count": 3,
   "metadata": {},
   "outputs": [
    {
     "data": {
      "application/vnd.microsoft.datawrangler.viewer.v0+json": {
       "columns": [
        {
         "name": "index",
         "rawType": "int64",
         "type": "integer"
        },
        {
         "name": "T",
         "rawType": "int32",
         "type": "integer"
        },
        {
         "name": "Y",
         "rawType": "int32",
         "type": "integer"
        }
       ],
       "conversionMethod": "pd.DataFrame",
       "ref": "7fd8c007-38c0-4ec6-a2e7-a24d4e3cb994",
       "rows": [
        [
         "0",
         "0",
         "0"
        ],
        [
         "1",
         "1",
         "0"
        ],
        [
         "2",
         "0",
         "1"
        ],
        [
         "3",
         "0",
         "0"
        ],
        [
         "4",
         "1",
         "1"
        ]
       ],
       "shape": {
        "columns": 2,
        "rows": 5
       }
      },
      "text/html": [
       "<div>\n",
       "<style scoped>\n",
       "    .dataframe tbody tr th:only-of-type {\n",
       "        vertical-align: middle;\n",
       "    }\n",
       "\n",
       "    .dataframe tbody tr th {\n",
       "        vertical-align: top;\n",
       "    }\n",
       "\n",
       "    .dataframe thead th {\n",
       "        text-align: right;\n",
       "    }\n",
       "</style>\n",
       "<table border=\"1\" class=\"dataframe\">\n",
       "  <thead>\n",
       "    <tr style=\"text-align: right;\">\n",
       "      <th></th>\n",
       "      <th>T</th>\n",
       "      <th>Y</th>\n",
       "    </tr>\n",
       "  </thead>\n",
       "  <tbody>\n",
       "    <tr>\n",
       "      <th>0</th>\n",
       "      <td>0</td>\n",
       "      <td>0</td>\n",
       "    </tr>\n",
       "    <tr>\n",
       "      <th>1</th>\n",
       "      <td>1</td>\n",
       "      <td>0</td>\n",
       "    </tr>\n",
       "    <tr>\n",
       "      <th>2</th>\n",
       "      <td>0</td>\n",
       "      <td>1</td>\n",
       "    </tr>\n",
       "    <tr>\n",
       "      <th>3</th>\n",
       "      <td>0</td>\n",
       "      <td>0</td>\n",
       "    </tr>\n",
       "    <tr>\n",
       "      <th>4</th>\n",
       "      <td>1</td>\n",
       "      <td>1</td>\n",
       "    </tr>\n",
       "  </tbody>\n",
       "</table>\n",
       "</div>"
      ],
      "text/plain": [
       "   T  Y\n",
       "0  0  0\n",
       "1  1  0\n",
       "2  0  1\n",
       "3  0  0\n",
       "4  1  1"
      ]
     },
     "execution_count": 3,
     "metadata": {},
     "output_type": "execute_result"
    }
   ],
   "source": [
    "obs_data = simulate_bin(sample_size=1000, force_treatment=None, obs_confouder=False)\n",
    "obs_data.head()"
   ]
  },
  {
   "cell_type": "markdown",
   "metadata": {},
   "source": [
    "### Traditional statistics\n",
    "\n",
    "Một pivot table đơn giản để xem qua số liệu:"
   ]
  },
  {
   "cell_type": "code",
   "execution_count": 4,
   "metadata": {},
   "outputs": [
    {
     "data": {
      "application/vnd.microsoft.datawrangler.viewer.v0+json": {
       "columns": [
        {
         "name": "T",
         "rawType": "int32",
         "type": "integer"
        },
        {
         "name": "0",
         "rawType": "int64",
         "type": "integer"
        },
        {
         "name": "1",
         "rawType": "int64",
         "type": "integer"
        }
       ],
       "conversionMethod": "pd.DataFrame",
       "ref": "d9e14d55-ae50-4c9a-85ee-bd68cd15fd34",
       "rows": [
        [
         "0",
         "222",
         "274"
        ],
        [
         "1",
         "309",
         "195"
        ]
       ],
       "shape": {
        "columns": 2,
        "rows": 2
       }
      },
      "text/html": [
       "<div>\n",
       "<style scoped>\n",
       "    .dataframe tbody tr th:only-of-type {\n",
       "        vertical-align: middle;\n",
       "    }\n",
       "\n",
       "    .dataframe tbody tr th {\n",
       "        vertical-align: top;\n",
       "    }\n",
       "\n",
       "    .dataframe thead th {\n",
       "        text-align: right;\n",
       "    }\n",
       "</style>\n",
       "<table border=\"1\" class=\"dataframe\">\n",
       "  <thead>\n",
       "    <tr style=\"text-align: right;\">\n",
       "      <th>Y</th>\n",
       "      <th>0</th>\n",
       "      <th>1</th>\n",
       "    </tr>\n",
       "    <tr>\n",
       "      <th>T</th>\n",
       "      <th></th>\n",
       "      <th></th>\n",
       "    </tr>\n",
       "  </thead>\n",
       "  <tbody>\n",
       "    <tr>\n",
       "      <th>0</th>\n",
       "      <td>222</td>\n",
       "      <td>274</td>\n",
       "    </tr>\n",
       "    <tr>\n",
       "      <th>1</th>\n",
       "      <td>309</td>\n",
       "      <td>195</td>\n",
       "    </tr>\n",
       "  </tbody>\n",
       "</table>\n",
       "</div>"
      ],
      "text/plain": [
       "Y    0    1\n",
       "T          \n",
       "0  222  274\n",
       "1  309  195"
      ]
     },
     "execution_count": 4,
     "metadata": {},
     "output_type": "execute_result"
    }
   ],
   "source": [
    "xtab = pd.crosstab(obs_data['T'], obs_data['Y'])\n",
    "\n",
    "xtab"
   ]
  },
  {
   "cell_type": "code",
   "execution_count": 9,
   "metadata": {},
   "outputs": [
    {
     "data": {
      "text/plain": [
       "T\n",
       "0    55.241935\n",
       "1    38.690476\n",
       "dtype: float64"
      ]
     },
     "execution_count": 9,
     "metadata": {},
     "output_type": "execute_result"
    }
   ],
   "source": [
    "100 * xtab[1] / xtab.aggregate('sum', axis=1)"
   ]
  },
  {
   "cell_type": "code",
   "execution_count": 10,
   "metadata": {},
   "outputs": [
    {
     "data": {
      "text/plain": [
       "-12.770459000000002"
      ]
     },
     "execution_count": 10,
     "metadata": {},
     "output_type": "execute_result"
    }
   ],
   "source": [
    "41.153082 - 53.923541"
   ]
  },
  {
   "cell_type": "code",
   "execution_count": 11,
   "metadata": {},
   "outputs": [
    {
     "data": {
      "text/plain": [
       "'Avg effect: -16.55% : -22.66% to -10.44%'"
      ]
     },
     "execution_count": 11,
     "metadata": {},
     "output_type": "execute_result"
    }
   ],
   "source": [
    "def estimate_effect(ds):\n",
    "    \n",
    "    base = ds[ds['T'] == 0]\n",
    "    variant = ds[ds['T'] == 1]\n",
    "    \n",
    "    delta = variant.Y.mean() - base.Y.mean()\n",
    "    \n",
    "    delta_err = 1.96 * np.sqrt(\n",
    "        variant.Y.var() / variant.shape[0] +\n",
    "        base.Y.var() / base.shape[0]\n",
    "    )\n",
    "    \n",
    "    return f\"Avg effect: {100*delta:.2f}% : {100*(delta - delta_err):.2f}% to {100*(delta + delta_err):.2f}%\"\n",
    "\n",
    "estimate_effect(obs_data)"
   ]
  },
  {
   "cell_type": "markdown",
   "metadata": {},
   "source": [
    "Với khoảng tin cậy (CI) 95%, hiệu ứng trung bình là -16.55%. Xa hơn nữa, bạn Marketer thực hiện một kiểm định Chi square test, với ngưỡng ý nghĩa thống kê rất thấp là 0.0001:"
   ]
  },
  {
   "cell_type": "code",
   "execution_count": 21,
   "metadata": {},
   "outputs": [
    {
     "name": "stdout",
     "output_type": "stream",
     "text": [
      "Có liên hệ ý nghĩa giữa T và Y, Chi2 = 26.838436, p_value = 0.000000\n"
     ]
    }
   ],
   "source": [
    "from scipy.stats import chi2_contingency\n",
    "\n",
    "def chi_square(xtab, thres = 0.0001):\n",
    "    chi2_out = chi2_contingency(xtab)\n",
    "    if chi2_out[1] < thres:\n",
    "        print(f'Có liên hệ ý nghĩa giữa T và Y, Chi2 = {chi2_out[0]:02f}, p_value = {chi2_out[1]:02f}')\n",
    "    else:\n",
    "        print(f'T và Y độc lập với nhau, Chi2 = {chi2_out[0]:02f}, p_value = {chi2_out[1]:02f}')\n",
    "\n",
    "chi_square(xtab, thres=0.0001)"
   ]
  },
  {
   "cell_type": "markdown",
   "metadata": {},
   "source": [
    "Kết quả thật đẹp. Sếp gợi ý làm thêm mô hình Logistic để tính Odds_ratio. Ta sẽ làm như vậy:"
   ]
  },
  {
   "cell_type": "code",
   "execution_count": null,
   "metadata": {},
   "outputs": [],
   "source": []
  },
  {
   "cell_type": "markdown",
   "metadata": {},
   "source": [
    "## Scenario 2: RCT"
   ]
  },
  {
   "cell_type": "markdown",
   "metadata": {},
   "source": [
    "## Explanation"
   ]
  },
  {
   "cell_type": "markdown",
   "metadata": {},
   "source": [
    "## Backdoor adjustment with `DoWhy`"
   ]
  },
  {
   "cell_type": "markdown",
   "metadata": {},
   "source": [
    "## Conclusion\n",
    "\n",
    "1. Dữ liệu bản thân nó không quan trọng bằng **quá trình/cơ chế** sinh dữ liệu;\n",
    "2. Khi thực hiện RCT, cần chú ý tới **confounders**. Đồng thời RCT cũng sẽ ảnh hưởng trực tiếp đến tính ngẫu nhiên của dữ liệu (ta đã thay đổi quá khứ);\n",
    "3. **Association/Correlation** khác/không tương đương với **Causal relationship**;\n",
    "4. Simpson paradox là một trường hợp cực đoan khi RCT không kiểm soát tốt confounders, vi phạm giả định về **tính độc lập có điều kiện** của can thiệp (treatment);\n",
    "5. Nếu quy trình phân tích không được dẫn đường bởi quy luật nhân quả, rất dễ rơi vào bẫy nghịch lý, dẫn đến **quyết định sai lầm**."
   ]
  },
  {
   "cell_type": "markdown",
   "metadata": {},
   "source": [
    "## References\n",
    "\n",
    "- BS Le Ngoc Kha Nhi: <https://www.lengockhanhi.com/post/ngh%E1%BB%8Bch-l%C3%BD-simpson>"
   ]
  }
 ],
 "metadata": {
  "kernelspec": {
   "display_name": "base",
   "language": "python",
   "name": "python3"
  },
  "language_info": {
   "codemirror_mode": {
    "name": "ipython",
    "version": 3
   },
   "file_extension": ".py",
   "mimetype": "text/x-python",
   "name": "python",
   "nbconvert_exporter": "python",
   "pygments_lexer": "ipython3",
   "version": "3.12.8"
  }
 },
 "nbformat": 4,
 "nbformat_minor": 2
}
