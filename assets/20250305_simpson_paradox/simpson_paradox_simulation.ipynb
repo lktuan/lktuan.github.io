{
 "cells": [
  {
   "cell_type": "markdown",
   "metadata": {},
   "source": [
    "# An experiment/simulation to understand Simpson Paradox"
   ]
  },
  {
   "cell_type": "markdown",
   "metadata": {},
   "source": [
    "## Motivation\n",
    "\n",
    "Thông qua một ví dụ về thử nghiệm ngẫu nhiên có kiểm soát (RCT hay A/B test) trong một chiến dịch Marketing, ta sẽ thấy được:\n",
    "\n",
    "- Sự khác biệt giữa quan sát ngẫu nhiên trong quần thể (population) và khi có sự xuất hiện của 1 RCT;\n",
    "- Hạn chế của thống kê quy ước trong cả hai trường hợp -> tầm quan trọng của suy luận nhân quả.\n",
    "\n"
   ]
  },
  {
   "cell_type": "code",
   "execution_count": 1,
   "metadata": {},
   "outputs": [],
   "source": [
    "import numpy as np\n",
    "import pandas as pd\n",
    "\n",
    "import matplotlib.pyplot as plt\n",
    "import seaborn as sns\n",
    "\n",
    "sns.set_style(\"whitegrid\")\n",
    "sns.set_palette(\"Set1\")"
   ]
  },
  {
   "cell_type": "markdown",
   "metadata": {},
   "source": [
    "## Scenario 1: Random observed data\n",
    "\n",
    "Marketer có trong tay 1 `DataFrame` gồm 2 biến binary:\n",
    "\n",
    "- `T`: 0 ~ không thực hiện chiến dịch quảng cáo mới, 1 ~ có thực hiện\n",
    "- `Y`: 0 ~ không mua hàng trong session đầu ngay sau chiến dịch, 1 ~ có mua."
   ]
  },
  {
   "cell_type": "code",
   "execution_count": null,
   "metadata": {},
   "outputs": [],
   "source": [
    "def simulate_bin(sample_size=1000, force_treatment=None, obs_confouder=False):\n",
    "    \"\"\"\n",
    "    Simulate a binary outcome Y from a binary treatment T and a binary confounder C.\n",
    "    \"\"\"\n",
    "    p_c = 0.5\n",
    "    p_t_c = [0.8, 0.2]\n",
    "    p_y_tc = [0.1, 0.3, 0.7, 0.9]\n",
    "    \n",
    "    c = np.random.binomial(n=1, p=p_c, size=sample_size)\n",
    "\n",
    "    if force_treatment is not None:\n",
    "        assert(len(force_treatment) == sample_size)\n",
    "        t = force_treatment\n",
    "    else:\n",
    "        p_t = np.choose(c, p_t_c)\n",
    "        t = np.random.binomial(n=1, p=p_t, size=sample_size)\n",
    "        \n",
    "    p_y = np.choose(c*2 + t, p_y_tc)\n",
    "    y = np.random.binomial(n=1, p=p_y, size=sample_size)\n",
    "\n",
    "    if obs_confouder:\n",
    "        return pd.DataFrame({\"T\": t, \"Y\": y, \"C\": c})\n",
    "        \n",
    "    return pd.DataFrame({\"T\": t, \"Y\": y})\n",
    "    "
   ]
  },
  {
   "cell_type": "markdown",
   "metadata": {},
   "source": [
    "## Scenario 2: RCT"
   ]
  },
  {
   "cell_type": "markdown",
   "metadata": {},
   "source": [
    "## Explanation"
   ]
  },
  {
   "cell_type": "markdown",
   "metadata": {},
   "source": [
    "## Backdoor adjustment with `DoWhy`"
   ]
  },
  {
   "cell_type": "markdown",
   "metadata": {},
   "source": [
    "## Conclusion\n",
    "\n",
    "1. Dữ liệu bản thân nó không quan trọng bằng **quá trình/cơ chế** sinh dữ liệu;\n",
    "2. Khi thực hiện RCT, cần chú ý tới **confounders**. Đồng thời RCT cũng sẽ ảnh hưởng trực tiếp đến tính ngẫu nhiên của dữ liệu (ta đã thay đổi quá khứ);\n",
    "3. **Association/Correlation** khác/không tương đương với **Causal relationship**;\n",
    "4. Simpson paradox là một trường hợp cực đoan khi RCT không kiểm soát tốt confounders, vi phạm giả định về **tính độc lập có điều kiện** của can thiệp (treatment);\n",
    "5. Nếu quy trình phân tích không được dẫn đường bởi quy luật nhân quả, rất dễ rơi vào bẫy nghịch lý, dẫn đến **quyết định sai lầm**."
   ]
  },
  {
   "cell_type": "markdown",
   "metadata": {},
   "source": [
    "## References\n",
    "\n",
    "- BS Le Ngoc Kha Nhi: <https://www.lengockhanhi.com/post/ngh%E1%BB%8Bch-l%C3%BD-simpson>"
   ]
  }
 ],
 "metadata": {
  "kernelspec": {
   "display_name": "base",
   "language": "python",
   "name": "python3"
  },
  "language_info": {
   "codemirror_mode": {
    "name": "ipython",
    "version": 3
   },
   "file_extension": ".py",
   "mimetype": "text/x-python",
   "name": "python",
   "nbconvert_exporter": "python",
   "pygments_lexer": "ipython3",
   "version": "3.12.8"
  }
 },
 "nbformat": 4,
 "nbformat_minor": 2
}
