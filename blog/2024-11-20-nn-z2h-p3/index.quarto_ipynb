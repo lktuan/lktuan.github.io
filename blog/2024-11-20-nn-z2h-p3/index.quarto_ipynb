{
  "cells": [
    {
      "cell_type": "markdown",
      "metadata": {},
      "source": [
        "---\n",
        "title: \"NN-Z2H Lesson 3: Building makemore part 2 - MLP\"\n",
        "description: \"implement a multilayer perceptron (MLP) character-level language model, introduce model training, learning rate tuning, hyperparameters, evaluation, train/dev/test splits, under/overfitting, etc.\"\n",
        "author:\n",
        "  - name: \"Tuan Le Khac\"\n",
        "    url: https://lktuan.github.io/\n",
        "categories: [til, python, andrej karpathy, nn-z2h, neural networks] \n",
        "date: 11-20-2024\n",
        "date-modified: 11-20-2024\n",
        "image: NLM_Bengio_etal.png\n",
        "draft: false\n",
        "editor: visual\n",
        "format:\n",
        "  html:\n",
        "    code-overflow: wrap\n",
        "    code-tools: true\n",
        "    code-fold: show\n",
        "    code-annotations: hover\n",
        "---\n",
        "\n",
        "\n",
        "::: {.callout-important title=\"This is not orginal content!\"}\n",
        "This is my study notes / codes along with Andrej Karpathy's \"[Neural Networks: Zero to Hero](https://www.youtube.com/watch?v=VMj-3S1tku0&list=PLAqhIrjkxbuWI23v9cThsA9GvCAUhRvKZ)\" series.\n",
        ":::\n",
        "\n",
        "In the previous lecture, we built a simple `bigram` character-level language model, using 2 different approaches that are (1) count, and (2) 1 layer neural network. They produced the same (and both poor - since the context is 1 character only) result but the neural network option offers more flexibility so that we can complexify our model to get better performance.\n",
        "\n",
        "In this lecture we are going to implement 20-years ago neural probabilistic language model by *Bengio et al. (2003)*.\n",
        "\n",
        "# PART 1: intro to MLP\n",
        "\n",
        "## Bengio et al. 2003 (MLP language model) paper walkthrough\n",
        "\n",
        "### Summary\n",
        "\n",
        "**Problem Statement**:\n",
        "\n",
        "-   Traditional n-gram language models suffer from the *curse of dimensionality*: they can't effectively generalize to word sequences not seen in training data;\n",
        "-   The core issue is treating words as atomic units with no *inherent similarity* to each other;\n",
        "-   For example, if we've seen \"dog is eating\" in training but never \"cat is eating\", n-gram models can't leverage the similarity between \"dog\" and \"cat\";\n",
        "-   This leads to poor probability estimates for rare or unseen word sequences.\n",
        "\n",
        "**Solution**:\n",
        "\n",
        "-   Learn a *distributed representation* (embedding) for each word in a continuous vector space where similar words are close to each other;\n",
        "-   Use a neural network architecture with:\n",
        "    -   Input layer: concatenated embeddings of n-1 previous words;\n",
        "    -   Hidden layer: dense neural network with `tanh` activation;\n",
        "    -   Output layer: softmax over entire vocabulary to predict next word probability.\n",
        "\n",
        "**The model simultaneously learns**:\n",
        "\n",
        "-   Word feature vectors (embeddings) that capture *semantic/syntactic word similarities*;\n",
        "-   Neural network parameters that combine these features to estimate probability distributions.\n",
        "\n",
        "**Key advantages**:\n",
        "\n",
        "-   Words with similar meanings get similar feature vectors, enabling better *generalization*;\n",
        "-   The probability function is smooth with respect to word embeddings, so similar words yield *similar predictions*;\n",
        "-   Can generalize to *unseen sequences* by leveraging learned word similarities.\n",
        "\n",
        "### Methodology:\n",
        "\n",
        "-   Traditional Problem:\n",
        "\n",
        "    -   In n-gram models, each word sequence of length n is a separate parameter;\n",
        "    -   For vocabulary size $|V|$, need $|V|^n$ parameters;\n",
        "    -   Most sequences never appear in training, leading to poor generalization;\n",
        "\n",
        "-   Solution via **Distributed Representation**:\n",
        "\n",
        "    -   Each word mapped to a dense vector in $R^m$ (typically m=50-100);\n",
        "    -   Similar words get similar vectors through training;\n",
        "    -   Probability function is smooth w.r.t these vectors;\n",
        "    -   Key benefit: If \"dog\" and \"cat\" have similar vectors, model can generalize from \"dog is eating\" to \"cat is eating\";\n",
        "    -   Number of parameters reduces to $O(|V|×m + m×h + h×|V|)$, where $h$ is hidden layer size;\n",
        "    -   This is much smaller than $|V|^n$ and allows better generalization;\n",
        "\n",
        "### Neural architecture:\n",
        "\n",
        "**Input Layer**:\n",
        "\n",
        "-   Takes $n-1$ previous words (context window);\n",
        "-   Each word i mapped to vector $C(i) ∈ R^m$ via lookup table;\n",
        "-   Concatenates these vectors: $x = [C(wₜ₋ₙ₊₁), ..., C(wₜ₋₁)]$;\n",
        "-   $x$ dimension is $(n-1)×m$;\n",
        "\n",
        "**Hidden Layer**:\n",
        "\n",
        "-   Dense layer with tanh activation;\n",
        "-   Computation: $h = tanh(d + Hx)$;\n",
        "-   $H$ is weight matrix, $d$ is bias vector;\n",
        "-   Maps concatenated context to hidden representation;\n",
        "\n",
        "**Output Layer**:\n",
        "\n",
        "-   Computes probability distribution over all words;\n",
        "-   $y = b + Wx + Uh$;\n",
        "-   Softmax activation: $P(wₜ|context) = exp(yᵢ)/Σⱼexp(yⱼ)$;\n",
        "-   $W$ provides \"shortcut\" connections from input to output;\n",
        "-   Direct connection helps learn simpler patterns;\n",
        "\n",
        "**Training**:\n",
        "\n",
        "-   Maximizes log-likelihood of training data;\n",
        "-   Uses stochastic gradient descent;\n",
        "-   Learns both word vectors $C(i)$ and neural network parameters $(H, d, W, U, b)$;\n",
        "-   Word vectors capture similarities as they help predict similar contexts;\n",
        "-   Can initialize word vectors randomly or with pretrained vectors.\n",
        "\n",
        "![Neural Language Model proposed by (Bengio et al., 2003). C(i) is the i th word embedding.](NLM_Bengio_etal.png)\n",
        "\n",
        "## (re-)building our training dataset\n",
        "\n",
        "Loading library, reading data, building dictionary:\n"
      ],
      "id": "9a54f778"
    },
    {
      "cell_type": "code",
      "metadata": {},
      "source": [
        "import torch\n",
        "import torch.nn.functional as F\n",
        "import pandas as pd\n",
        "import matplotlib.pyplot as plt\n",
        "%matplotlib inline"
      ],
      "id": "caacd425",
      "execution_count": null,
      "outputs": []
    },
    {
      "cell_type": "code",
      "metadata": {},
      "source": [
        "import pandas as pd\n",
        "\n",
        "url = \"https://raw.githubusercontent.com/karpathy/makemore/refs/heads/master/names.txt\"\n",
        "words = pd.read_csv(url, header=None).iloc[:, 0].tolist()\n",
        "words[:8]"
      ],
      "id": "44099d55",
      "execution_count": null,
      "outputs": []
    },
    {
      "cell_type": "code",
      "metadata": {},
      "source": [
        "len(words)"
      ],
      "id": "7c7b1454",
      "execution_count": null,
      "outputs": []
    },
    {
      "cell_type": "code",
      "metadata": {},
      "source": [
        "# build the vocabulary of characters and mapping to/from integer\n",
        "chars = sorted(list(set(''.join(words))))\n",
        "stoi = {s:i+1 for i, s in enumerate(chars)}\n",
        "stoi['.'] = 0\n",
        "\n",
        "itos = {i: s for s, i in stoi.items()}\n",
        "itos"
      ],
      "id": "f05f8e06",
      "execution_count": null,
      "outputs": []
    },
    {
      "cell_type": "markdown",
      "metadata": {},
      "source": [
        "Building the dataset:\n"
      ],
      "id": "67358d29"
    },
    {
      "cell_type": "code",
      "metadata": {},
      "source": [
        "block_size = 3 # the context length: how many characters do we take to predict the next one?\n",
        "X, Y = [], []\n",
        "\n",
        "for w in words[:5]:\n",
        "    print(w)\n",
        "    context = [0] * block_size # 0 so context will be padded by '.'\n",
        "    for ch in w + '.':\n",
        "        ix = stoi[ch]\n",
        "        X.append(context)\n",
        "        Y.append(ix)\n",
        "        print(''.join(itos[i] for i in context), '----->', itos[ix] )\n",
        "        context = context[1:] + [ix] # rolling to the next one\n",
        "\n",
        "X = torch.tensor(X)\n",
        "Y = torch.tensor(Y)"
      ],
      "id": "ab6e3edd",
      "execution_count": null,
      "outputs": []
    },
    {
      "cell_type": "code",
      "metadata": {},
      "source": [
        "X.shape, X.dtype, Y.shape, Y.dtype"
      ],
      "id": "ebcfc315",
      "execution_count": null,
      "outputs": []
    },
    {
      "cell_type": "markdown",
      "metadata": {},
      "source": [
        "## implementing the embedding lookup table\n",
        "\n",
        "In the paper they cram 17k word into as-low-as-possible 30 dimensions space, for our data, we just cram words into 2D space.\n"
      ],
      "id": "2a93a1e0"
    },
    {
      "cell_type": "code",
      "metadata": {},
      "source": [
        "C = torch.randn((27, 2))"
      ],
      "id": "52e22fb3",
      "execution_count": null,
      "outputs": []
    },
    {
      "cell_type": "markdown",
      "metadata": {},
      "source": [
        "We can access the element of `torch.tensor` by:\n"
      ],
      "id": "832125ab"
    },
    {
      "cell_type": "code",
      "metadata": {},
      "source": [
        "C[5] # can be integer, list [5, 6, 7], or torch.tensor([5,6,7])\n",
        "# > tensor([1.0825, 0.2010])\n",
        "\n",
        "# or\n",
        "\n",
        "F.one_hot(torch.tensor(5), num_classes=27).float() @ C\n",
        "# produce identical result, remember torch.tensor() infer long dtype int64, so we need to cast to float"
      ],
      "id": "ecd2f2f8",
      "execution_count": null,
      "outputs": []
    },
    {
      "cell_type": "markdown",
      "metadata": {},
      "source": [
        "...but in this lecture accessing by `C[5]` would be sufficient. We can even access using a more than 1 dimension tensor:\n"
      ],
      "id": "a4345a3f"
    },
    {
      "cell_type": "code",
      "metadata": {},
      "source": [
        "print(C[X].shape)\n",
        "print(X[13, 2]) # integer 1 for 13rd index of 2nd dimension\n",
        "print(C[X][13,2]) # will be the embedding of that element\n",
        "print(C[1]) # so C[X][13,2] = C[1]"
      ],
      "id": "ebf470f8",
      "execution_count": null,
      "outputs": []
    },
    {
      "cell_type": "markdown",
      "metadata": {},
      "source": [
        "PyTorch is great for embedding words:\n"
      ],
      "id": "057d9b9c"
    },
    {
      "cell_type": "code",
      "metadata": {},
      "source": [
        "emb = C[X]\n",
        "emb.shape"
      ],
      "id": "3a47cc84",
      "execution_count": null,
      "outputs": []
    },
    {
      "cell_type": "markdown",
      "metadata": {},
      "source": [
        "We've compeleted the first layer with `context` and lookup table!\n",
        "\n",
        "## implementing the hidden layer + internals of `torch.Tensor`: `storage`, `views`\n"
      ],
      "id": "7da486d4"
    },
    {
      "cell_type": "code",
      "metadata": {},
      "source": [
        "# input of tanh layer will be 6 (3 words in context x 2 dimensions)\n",
        "# and the number or neurons is up to us - let's set it 100\n",
        "W1 = torch.randn((6, 100))\n",
        "b1 = torch.randn(100)"
      ],
      "id": "52f777dd",
      "execution_count": null,
      "outputs": []
    },
    {
      "cell_type": "markdown",
      "metadata": {},
      "source": [
        "Now we need to do something like `emb @ W1 + b1`, but `emb.shape` is `[32, 3, 2]` and `W1.shape` is `[6, 100]`. We need to somehow concatnate/transform:\n"
      ],
      "id": "bc7588ba"
    },
    {
      "cell_type": "code",
      "metadata": {},
      "source": [
        "# emb[:, 0, :] is tensor for each input in the 3-words context, shape is [32, 2]\n",
        "# cat 3 of them using the 2nd dimension (index 1) -> so we set dim = 1\n",
        "torch.cat([emb[:, 0, :], emb[:, 1, :], emb[:, 2, :]], dim=1).shape"
      ],
      "id": "a5df120d",
      "execution_count": null,
      "outputs": []
    },
    {
      "cell_type": "markdown",
      "metadata": {},
      "source": [
        "However this code does not change dynamically when we change the block size. We will be using `torch.unbind()`\n"
      ],
      "id": "507732d1"
    },
    {
      "cell_type": "code",
      "metadata": {},
      "source": [
        "# this is good!\n",
        "torch.cat(torch.unbind(emb, 1), 1).shape\n",
        "# new memory for storage is created, so it is not efficient"
      ],
      "id": "cad882f3",
      "execution_count": null,
      "outputs": []
    },
    {
      "cell_type": "markdown",
      "metadata": {},
      "source": [
        "This works, but we have a better and more efficient way to do this. Since:\n",
        "\n",
        "-   every `torch.Tensor` have `.storage()` which is one-dimensional vector tensor;\n",
        "-   when we call `.view()`, we instruct how this vector tensor is interpreted;\n",
        "-   no memory is being changed/copied/moved/or created. the storage is identical.\n",
        "\n",
        "Readmore: <http://blog.ezyang.com/2019/05/pytorch-internals/>\n",
        "\n",
        "So this hidden layer can be declared:\n"
      ],
      "id": "d5f2f6bc"
    },
    {
      "cell_type": "code",
      "metadata": {},
      "source": [
        "# instead or 32 we can write emb.shape[1], or -1 (whatever fitted)\n",
        "h = emb.view(-1, 6) @ W1 + b1\n",
        "h.shape"
      ],
      "id": "9e58520c",
      "execution_count": null,
      "outputs": []
    },
    {
      "cell_type": "markdown",
      "metadata": {},
      "source": [
        "Notice that in the final operation, `b1` will be broadcasted.\n",
        "\n",
        "## implementing the output layer\n"
      ],
      "id": "28834f45"
    },
    {
      "cell_type": "code",
      "metadata": {},
      "source": [
        "W2 = torch.randn((100, 27))\n",
        "b2 = torch.randn(27)"
      ],
      "id": "14f143a4",
      "execution_count": null,
      "outputs": []
    },
    {
      "cell_type": "markdown",
      "metadata": {},
      "source": [
        "In Deep Learning, people use `logits` for what raw output that range from negative inf to positive inf.\n"
      ],
      "id": "9dbb7955"
    },
    {
      "cell_type": "code",
      "metadata": {},
      "source": [
        "logits = h @ W2 + b2"
      ],
      "id": "d028ab11",
      "execution_count": null,
      "outputs": []
    },
    {
      "cell_type": "code",
      "metadata": {},
      "source": [
        "logits.shape"
      ],
      "id": "e2256977",
      "execution_count": null,
      "outputs": []
    },
    {
      "cell_type": "markdown",
      "metadata": {},
      "source": [
        "Now we need to exponentiate it and get the probability.\n"
      ],
      "id": "66c9fd07"
    },
    {
      "cell_type": "code",
      "metadata": {},
      "source": [
        "counts = logits.exp()"
      ],
      "id": "2328a42c",
      "execution_count": null,
      "outputs": []
    },
    {
      "cell_type": "code",
      "metadata": {},
      "source": [
        "probs = counts / counts.sum(1, keepdims=True)"
      ],
      "id": "4c944a2a",
      "execution_count": null,
      "outputs": []
    },
    {
      "cell_type": "code",
      "metadata": {},
      "source": [
        "probs.shape"
      ],
      "id": "04972dd7",
      "execution_count": null,
      "outputs": []
    },
    {
      "cell_type": "markdown",
      "metadata": {},
      "source": [
        "Every row of `probs` has sum of 1.\n"
      ],
      "id": "fc54bbc2"
    },
    {
      "cell_type": "code",
      "metadata": {},
      "source": [
        "probs[0].sum()"
      ],
      "id": "6dcc7307",
      "execution_count": null,
      "outputs": []
    },
    {
      "cell_type": "markdown",
      "metadata": {},
      "source": [
        "And this is the `probs` of each ground true `Y` in current output of the neural nets:\n"
      ],
      "id": "8bc18110"
    },
    {
      "cell_type": "code",
      "metadata": {},
      "source": [
        "probs[torch.arange(32), Y]"
      ],
      "id": "6959bdd7",
      "execution_count": null,
      "outputs": []
    },
    {
      "cell_type": "markdown",
      "metadata": {},
      "source": [
        "Result is not good as we've not trained the network yet!\n",
        "\n",
        "## implementing the negative log likelihood loss\n",
        "\n",
        "We define the negative log likelihood as:\n"
      ],
      "id": "b9d3217c"
    },
    {
      "cell_type": "code",
      "metadata": {},
      "source": [
        "loss = - probs[torch.arange(32), Y].log().mean()\n",
        "loss"
      ],
      "id": "75c9b35f",
      "execution_count": null,
      "outputs": []
    },
    {
      "cell_type": "markdown",
      "metadata": {},
      "source": [
        "## summary of the full network\n",
        "\n",
        "Dataset:\n"
      ],
      "id": "3b4c4369"
    },
    {
      "cell_type": "code",
      "metadata": {},
      "source": [
        "X.shape, Y.shape"
      ],
      "id": "6a1731b3",
      "execution_count": null,
      "outputs": []
    },
    {
      "cell_type": "markdown",
      "metadata": {},
      "source": [
        "Neural network layers:\n"
      ],
      "id": "f474b954"
    },
    {
      "cell_type": "code",
      "metadata": {},
      "source": [
        "g = torch.Generator().manual_seed(2147483647)\n",
        "C = torch.randn((27, 2), generator=g)\n",
        "W1 = torch.randn((6, 100), generator=g)\n",
        "b1 = torch.randn(100, generator=g)\n",
        "W2 = torch.randn((100, 27), generator=g)\n",
        "b2 = torch.randn(27, generator=g)\n",
        "\n",
        "parameters = [C, W1, b1, W2, b2]"
      ],
      "id": "9bd04002",
      "execution_count": null,
      "outputs": []
    },
    {
      "cell_type": "markdown",
      "metadata": {},
      "source": [
        "Size of the network:\n"
      ],
      "id": "59b8c722"
    },
    {
      "cell_type": "code",
      "metadata": {},
      "source": [
        "sum(p.nelement() for p in parameters)"
      ],
      "id": "0d3ffc79",
      "execution_count": null,
      "outputs": []
    },
    {
      "cell_type": "markdown",
      "metadata": {},
      "source": [
        "Constructing forward pass:\n"
      ],
      "id": "bf1c85bd"
    },
    {
      "cell_type": "code",
      "metadata": {},
      "source": [
        "emb = C[X] # (32, 3, 2)\n",
        "h = torch.tanh(emb.view(-1, 6) @ W1 + b1) # (32, 100)\n",
        "logits = h @ W2 + b2 # (32, 27)\n",
        "counts = logits.exp()\n",
        "probs = counts / counts.sum(1, keepdims=True)\n",
        "loss = - probs[torch.arange(32), Y].log().mean()\n",
        "loss"
      ],
      "id": "2688d1bf",
      "execution_count": null,
      "outputs": []
    },
    {
      "cell_type": "markdown",
      "metadata": {},
      "source": [
        "# PART 2: intro to many basics of machine learning\n",
        "\n",
        "## introducing `F.cross_entropy` and why\n",
        "\n",
        "We re-define loss:\n"
      ],
      "id": "19563e0a"
    },
    {
      "cell_type": "code",
      "metadata": {},
      "source": [
        "loss = F.cross_entropy(logits, Y)\n",
        "loss"
      ],
      "id": "db191e2e",
      "execution_count": null,
      "outputs": []
    },
    {
      "cell_type": "markdown",
      "metadata": {},
      "source": [
        "Why?\n",
        "\n",
        "-   Pytorch will create more intermediate tensor for every assignment: `counts`, `probs` -\\> more memory;\n",
        "-   Backward pass will be more optimized, because the expressions are much analytically and mathematically interpreted;\n",
        "-   Cross entropy can be significantly & numerically well behaved (for eg when we exponentiate a large positive number we got inf, PyTorch cross entropy will calculate the max of set and subtract it - which will not impact the exp result)\n",
        "\n",
        "## implementing the training loop, overfitting one batch\n",
        "\n",
        "So the forward pass, backward pass, and update loop will be implemented as below:\n"
      ],
      "id": "0c936cb9"
    },
    {
      "cell_type": "code",
      "metadata": {},
      "source": [
        "for p in parameters:\n",
        "    p.requires_grad = True"
      ],
      "id": "078053ea",
      "execution_count": null,
      "outputs": []
    },
    {
      "cell_type": "code",
      "metadata": {},
      "source": [
        "for _ in range(10):\n",
        "    # forward pass:\n",
        "    emb = C[X] # (32, 3, 2)\n",
        "    h = torch.tanh(emb.view(-1, 6) @ W1 + b1) # (32, 100)\n",
        "    logits = h @ W2 + b2 # (32, 27)\n",
        "    loss = F.cross_entropy(logits, Y)\n",
        "    print(loss.item())\n",
        "    # backward pass:\n",
        "    for p in parameters:\n",
        "        p.grad = None\n",
        "    loss.backward()\n",
        "    # update\n",
        "    for p in parameters:\n",
        "        p.data += -0.1 * p.grad\n",
        "\n",
        "print(loss.item())"
      ],
      "id": "e74a38fc",
      "execution_count": null,
      "outputs": []
    },
    {
      "cell_type": "markdown",
      "metadata": {},
      "source": [
        "We are fitting 32 examples to a neural nets of 3481 params, so it's super easy to be overfitting. We got a low final loss, but it would never be 0, because the output can varry for the same input, for eg, `...`.\n"
      ],
      "id": "71271fb9"
    },
    {
      "cell_type": "code",
      "metadata": {},
      "source": [
        "logits.max(1)"
      ],
      "id": "25a8efaf",
      "execution_count": null,
      "outputs": []
    },
    {
      "cell_type": "markdown",
      "metadata": {},
      "source": [
        "## training on the full dataset, minibatches\n",
        "\n",
        "We can deploy our code to all the dataset, un-fold the below code block to see full code.\n"
      ],
      "id": "6ff41696"
    },
    {
      "cell_type": "code",
      "metadata": {},
      "source": [
        "#| code-fold: true\n",
        "block_size = 3\n",
        "X, Y = [], []\n",
        "\n",
        "# Dataset\n",
        "for w in words:\n",
        "    # print(w)\n",
        "    context = [0] * block_size\n",
        "    for ch in w + '.':\n",
        "        ix = stoi[ch]\n",
        "        X.append(context)\n",
        "        Y.append(ix)\n",
        "        # print(''.join(itos[i] for i in context), '----->', itos[ix] )\n",
        "        context = context[1:] + [ix] # rolling to the next one\n",
        "\n",
        "# Input and ground true\n",
        "X = torch.tensor(X)\n",
        "Y = torch.tensor(Y)\n",
        "print(\"Data size\", X.shape, Y.shape)\n",
        "\n",
        "# Lookup table\n",
        "g = torch.Generator().manual_seed(2147483647)\n",
        "C = torch.randn((27, 2), generator=g)\n",
        "emb = C[X] # (32, 3, 2)\n",
        "\n",
        "# Layer 1 - tanh\n",
        "W1 = torch.randn((6, 100), generator=g)\n",
        "b1 = torch.randn(100, generator=g)\n",
        "h = torch.tanh(emb.view(-1, 6) @ W1 + b1) # (32, 100)\n",
        "\n",
        "# Layer 2 - softmax\n",
        "W2 = torch.randn((100, 27), generator=g)\n",
        "b2 = torch.randn(27, generator=g)\n",
        "logits = h @ W2 + b2 # (32, 27)\n",
        "loss = F.cross_entropy(logits, Y)\n",
        "\n",
        "# All params\n",
        "parameters = [C, W1, b1, W2, b2]\n",
        "print(\"No of params: \", sum(p.nelement() for p in parameters))\n",
        "\n",
        "# Pre-training\n",
        "for p in parameters:\n",
        "    p.requires_grad = True"
      ],
      "id": "5858e3a3",
      "execution_count": null,
      "outputs": []
    },
    {
      "cell_type": "markdown",
      "metadata": {},
      "source": [
        "We notice that it takes a bit long time for each training in the loop. In practice, we will perform the forward/backward passes and update parameters for a small batch of the dataset. The minibatch construction is added/modified for lines of code with `#👈`.\n",
        "\n",
        "Read more: <https://nttuan8.com/bai-10-cac-ky-thuat-co-ban-trong-deep-learning/>\n"
      ],
      "id": "12b18276"
    },
    {
      "cell_type": "code",
      "metadata": {},
      "source": [
        "# Training\n",
        "for _ in range(10000):\n",
        "    # minibatch construct                                           #👈\n",
        "    ix = torch.randint(0, X.shape[0], (32,))                        #👈\n",
        "\n",
        "    # forward pass:\n",
        "    emb = C[X[ix]] # (32, 3, 2)                                     #👈\n",
        "    h = torch.tanh(emb.view(-1, 6) @ W1 + b1) # (32, 100)\n",
        "    logits = h @ W2 + b2 # (32, 27)\n",
        "    loss = F.cross_entropy(logits, Y[ix])                           #👈\n",
        "    if _ >= 9990: print(f\"___after running {_} time: \", loss.item())\n",
        "    # backward pass:\n",
        "    for p in parameters:\n",
        "        p.grad = None\n",
        "    loss.backward()\n",
        "    # update\n",
        "    for p in parameters:\n",
        "        p.data += -0.1 * p.grad\n",
        "\n",
        "print(\"final minibatch loss: \", loss.item())"
      ],
      "id": "57a05be1",
      "execution_count": null,
      "outputs": []
    },
    {
      "cell_type": "markdown",
      "metadata": {},
      "source": [
        "The `loss` decrease much much better, although the direction of gradient might be not correct direction. But it is good enough for an approximation. Notice the loss for a minibatch is not the loss of whole dataset.\n"
      ],
      "id": "f13225d2"
    },
    {
      "cell_type": "code",
      "metadata": {},
      "source": [
        "emb = C[X] # (32, 3, 2)                                    \n",
        "h = torch.tanh(emb.view(-1, 6) @ W1 + b1) # (32, 100)\n",
        "logits = h @ W2 + b2 # (32, 27)\n",
        "loss = F.cross_entropy(logits, Y)   \n",
        "loss.item()"
      ],
      "id": "ff07df4c",
      "execution_count": null,
      "outputs": []
    },
    {
      "cell_type": "markdown",
      "metadata": {},
      "source": [
        "We archived 2.39 loss for final minibatch and 2.5 on overall network.\n",
        "\n",
        "## finding a good initial learning rate\n",
        "\n",
        "Now we're continuing the optimization, let's focus on how much we update the data from the gradient `p.data += -0.1 * p.grad`. We do not know if we step too little or too much.\n",
        "\n",
        "We can create 1000 learning rates to use along with the training loop and see which one offers more stable convergence.\n"
      ],
      "id": "36195f38"
    },
    {
      "cell_type": "code",
      "metadata": {},
      "source": [
        "lre = torch.linspace(-3, 0, 1000)\n",
        "lrs = 10**lre"
      ],
      "id": "385656ad",
      "execution_count": null,
      "outputs": []
    },
    {
      "cell_type": "markdown",
      "metadata": {},
      "source": [
        "Reset the code:\n"
      ],
      "id": "383cbaa9"
    },
    {
      "cell_type": "code",
      "metadata": {},
      "source": [
        "#| code-fold: true\n",
        "block_size = 3\n",
        "X, Y = [], []\n",
        "\n",
        "# Dataset\n",
        "for w in words:\n",
        "    # print(w)\n",
        "    context = [0] * block_size\n",
        "    for ch in w + '.':\n",
        "        ix = stoi[ch]\n",
        "        X.append(context)\n",
        "        Y.append(ix)\n",
        "        # print(''.join(itos[i] for i in context), '----->', itos[ix] )\n",
        "        context = context[1:] + [ix] # rolling to the next one\n",
        "\n",
        "# Input and ground true\n",
        "X = torch.tensor(X)\n",
        "Y = torch.tensor(Y)\n",
        "print(\"Data size\", X.shape, Y.shape)\n",
        "\n",
        "# Lookup table\n",
        "g = torch.Generator().manual_seed(2147483647)\n",
        "C = torch.randn((27, 2), generator=g)\n",
        "emb = C[X] # (32, 3, 2)\n",
        "\n",
        "# Layer 1 - tanh\n",
        "W1 = torch.randn((6, 100), generator=g)\n",
        "b1 = torch.randn(100, generator=g)\n",
        "h = torch.tanh(emb.view(-1, 6) @ W1 + b1) # (32, 100)\n",
        "\n",
        "# Layer 2 - softmax\n",
        "W2 = torch.randn((100, 27), generator=g)\n",
        "b2 = torch.randn(27, generator=g)\n",
        "logits = h @ W2 + b2 # (32, 27)\n",
        "loss = F.cross_entropy(logits, Y)\n",
        "\n",
        "# All params\n",
        "parameters = [C, W1, b1, W2, b2]\n",
        "print(\"No of params: \", sum(p.nelement() for p in parameters))\n",
        "\n",
        "# Pre-training\n",
        "for p in parameters:\n",
        "    p.requires_grad = True"
      ],
      "id": "87886f65",
      "execution_count": null,
      "outputs": []
    },
    {
      "cell_type": "markdown",
      "metadata": {},
      "source": [
        "Training and tracking stats:\n"
      ],
      "id": "f9e4bff4"
    },
    {
      "cell_type": "code",
      "metadata": {},
      "source": [
        "lri = []\n",
        "lossi = []\n",
        "\n",
        "for i in range(1000):\n",
        "    # minibatch construct                                           \n",
        "    ix = torch.randint(0, X.shape[0], (32,))                        \n",
        "    # forward pass:\n",
        "    emb = C[X[ix]] # (32, 3, 2)                                    \n",
        "    h = torch.tanh(emb.view(-1, 6) @ W1 + b1) # (32, 100)\n",
        "    logits = h @ W2 + b2 # (32, 27)\n",
        "    loss = F.cross_entropy(logits, Y[ix])                           \n",
        "    # backward pass:\n",
        "    for p in parameters:\n",
        "        p.grad = None\n",
        "    loss.backward()\n",
        "    # update\n",
        "    lr = lrs[i]\n",
        "    for p in parameters:\n",
        "        p.data += - lr * p.grad\n",
        "\n",
        "    # track stats\n",
        "    lri.append(lre[i])\n",
        "    lossi.append(loss.item())\n",
        "\n",
        "loss.item()"
      ],
      "id": "98d76c35",
      "execution_count": null,
      "outputs": []
    },
    {
      "cell_type": "markdown",
      "metadata": {},
      "source": [
        "Plotting, we see a good exponential element of learning rate turn out to be around `-1`.\n",
        "\n",
        "$10^{-1}$ is `0.1` so our initial guess seems good.\n"
      ],
      "id": "7ddb6aac"
    },
    {
      "cell_type": "code",
      "metadata": {},
      "source": [
        "plt.plot(lri, lossi)"
      ],
      "id": "e83b0425",
      "execution_count": null,
      "outputs": []
    },
    {
      "cell_type": "markdown",
      "metadata": {},
      "source": [
        "## splitting up the dataset into train/val/test splits and why\n",
        "\n",
        "Now we can keep lengthening the training loop to continue decreasing loss. We can try some techniques like change the learning rate to `0.001` after 20k, 30k loops of training with `0.1`.\n",
        "\n",
        "But it will come to be overfitting when we try to keep training or increase the size of network to achieve a lower loss. The model just memorizing our training set verbatim, so if we try to sample from the model it just gives us the same thing in the dataset. Or if we calculate the loss on another dataset, it might be very high.\n",
        "\n",
        "So another industry standard is we will split the data set into 3 pieces: (1) training set; (2) dev/validation set; and (3) test set, they can be 80% - 10% - 10% roughly and respectively.\n",
        "\n",
        "1.  Training split: train the parameters;\n",
        "2.  Dev/validation split: train the hyperparamerters (size of hidden layer, size of embedding, streng of regularization, etc);\n",
        "3.  Test split: evaluate the performance of the model at the end, we only work on this a very very few times, otherwise we learn from it and repeat overfitting.\n",
        "\n",
        "We are going to implement this train/dev/test splits:\n"
      ],
      "id": "1751b7b8"
    },
    {
      "cell_type": "code",
      "metadata": {},
      "source": [
        "# build the dataset\n",
        "def buid_dataset(words):\n",
        "    block_size = 3\n",
        "    X, Y = [], []\n",
        "\n",
        "    for w in words:\n",
        "        context = [0] * block_size\n",
        "        for ch in w + '.':\n",
        "            ix = stoi[ch]\n",
        "            X.append(context)\n",
        "            Y.append(ix)\n",
        "            context = context[1:] + [ix]\n",
        "\n",
        "    X = torch.tensor(X)\n",
        "    Y = torch.tensor(Y)\n",
        "    print(X.shape, Y.shape)\n",
        "    return X, Y\n",
        "\n",
        "import random\n",
        "random.seed(42)\n",
        "random.shuffle(words)\n",
        "n1 = int(0.8 * len(words))\n",
        "n2 = int(0.9 * len(words))\n",
        "\n",
        "Xtr, Ytr = buid_dataset(words[:n1])\n",
        "Xdev, Ydev = buid_dataset(words[n1:n2])\n",
        "Xte, Yte = buid_dataset(words[n2:])"
      ],
      "id": "5d35bbde",
      "execution_count": null,
      "outputs": []
    },
    {
      "cell_type": "markdown",
      "metadata": {},
      "source": [
        "Now we're already to train on splits of the dataset, but let's hold on as we are talking abount overfitting. As discussed, overfitting also come from using a complex (too many parameters) for a small data set.\n",
        "\n",
        "Our dataset has roughly 228k records, while the size of network is only 3.4k. So we are still underfitting, let's continue to complexify our neural networks.\n",
        "\n",
        "2 things to consider here:\n",
        "\n",
        "-   the size of tanh - hidden layer; and\n",
        "-   dimensions of embedding space.\n",
        "\n",
        "## visualizing the loss, character embeddings\n",
        "\n",
        "First we want to see: - how the loss decrease with 200k training loop with current network setting, learning rate decay to 0.01 after first 100k; and - how the current character embeddings recognize the similarity between characters in (2D) space.\n",
        "\n",
        "Training on the `Xtr`, `Ytr`:\n"
      ],
      "id": "09c1ac10"
    },
    {
      "cell_type": "code",
      "metadata": {},
      "source": [
        "# Lookup table\n",
        "g = torch.Generator().manual_seed(2147483647)\n",
        "C = torch.randn((27, 2), generator=g)\n",
        "\n",
        "# Layer 1 - tanh\n",
        "W1 = torch.randn((6, 100), generator=g)\n",
        "b1 = torch.randn(100, generator=g)\n",
        "\n",
        "# Layer 2 - softmax\n",
        "W2 = torch.randn((100, 27), generator=g)\n",
        "b2 = torch.randn(27, generator=g)\n",
        "\n",
        "# All params\n",
        "parameters = [C, W1, b1, W2, b2]\n",
        "print(\"No of params: \", sum(p.nelement() for p in parameters))\n",
        "\n",
        "# Pre-training\n",
        "for p in parameters:\n",
        "    p.requires_grad = True\n",
        "\n",
        "# Stats holders\n",
        "lossi = []\n",
        "stepi = []\n",
        "\n",
        "# Training on Xtr, Ytr\n",
        "for i in range(200_000):\n",
        "    # minibatch construct                                           \n",
        "    ix = torch.randint(0, Xtr.shape[0], (32,))                       #👈\n",
        "    # forward pass:\n",
        "    emb = C[Xtr[ix]] # (32, 3, 2)                                    #👈\n",
        "    h = torch.tanh(emb.view(-1, 6) @ W1 + b1) # (32, 100)\n",
        "    logits = h @ W2 + b2 # (32, 27)\n",
        "    loss = F.cross_entropy(logits, Ytr[ix])                          #👈\n",
        "    # backward pass:\n",
        "    for p in parameters:\n",
        "        p.grad = None\n",
        "    loss.backward()\n",
        "    # update\n",
        "    lr = 0.1 if i <= 100_000 else 0.01                                #👈\n",
        "    for p in parameters:\n",
        "        p.data += - lr * p.grad\n",
        "\n",
        "    # track stats\n",
        "    lossi.append(loss.item())\n",
        "    stepi.append(i)\n",
        "\n",
        "print(\"Loss on minibatch: \", loss.item())"
      ],
      "id": "b8f30b7e",
      "execution_count": null,
      "outputs": []
    },
    {
      "cell_type": "markdown",
      "metadata": {},
      "source": [
        "Loss on whole training dataset:\n"
      ],
      "id": "04fa2903"
    },
    {
      "cell_type": "code",
      "metadata": {},
      "source": [
        "emb = C[Xtr] # (32, 3, 2)                                    \n",
        "h = torch.tanh(emb.view(-1, 6) @ W1 + b1) # (32, 100)\n",
        "logits = h @ W2 + b2 # (32, 27)\n",
        "loss = F.cross_entropy(logits, Ytr)   \n",
        "loss.item()"
      ],
      "id": "c315a13c",
      "execution_count": null,
      "outputs": []
    },
    {
      "cell_type": "markdown",
      "metadata": {},
      "source": [
        "Loss on dev/validation dataset, it's not much different from loss on training as the model is still underfitting, it still generalizes thing:\n"
      ],
      "id": "20fd030d"
    },
    {
      "cell_type": "code",
      "metadata": {},
      "source": [
        "emb = C[Xdev] # (32, 3, 2)                                    \n",
        "h = torch.tanh(emb.view(-1, 6) @ W1 + b1) # (32, 100)\n",
        "logits = h @ W2 + b2 # (32, 27)\n",
        "loss = F.cross_entropy(logits, Ydev)   \n",
        "loss.item()"
      ],
      "id": "14c84af7",
      "execution_count": null,
      "outputs": []
    },
    {
      "cell_type": "markdown",
      "metadata": {},
      "source": [
        "Visualizing loss, we can see the loss shaking significantly as the batch size still small - 32.\n"
      ],
      "id": "fe1b3b5b"
    },
    {
      "cell_type": "code",
      "metadata": {},
      "source": [
        "plt.plot(stepi, lossi)"
      ],
      "id": "263dc07d",
      "execution_count": null,
      "outputs": []
    },
    {
      "cell_type": "markdown",
      "metadata": {},
      "source": [
        "Visualizing the character embeddings, we can see the model can cluster for eg. vowels a, e, i, o, u.\n"
      ],
      "id": "e34bc9f9"
    },
    {
      "cell_type": "code",
      "metadata": {},
      "source": [
        "plt.figure(figsize=(8,8))\n",
        "plt.scatter(C[:,0].data, C[:, 1].data, s=200)\n",
        "for i in range(C.shape[0]):\n",
        "    plt.text(C[i,0].item(),C[i,1].item(), itos[i], ha=\"center\", va=\"center\", color=\"white\")\n",
        "plt.grid('minor')"
      ],
      "id": "b4c5e0c7",
      "execution_count": null,
      "outputs": []
    },
    {
      "cell_type": "markdown",
      "metadata": {},
      "source": [
        "## experiment: larger hidden layer, larger embedding size\n",
        "\n",
        "Now we can experiment a larger hidden layer (300), and larger embedding_size (10). Below is the whole code:\n"
      ],
      "id": "f6649e01"
    },
    {
      "cell_type": "code",
      "metadata": {},
      "source": [
        "#| code-fold: true\n",
        "\n",
        "# hyper-parameters\n",
        "block_size = 3 # number of chracters / inputs to predict the nextone\n",
        "no_chars = 27 # number of possible chracters, include '.'\n",
        "emb_size = 10 # no of dimensions of the embedding space.\n",
        "hidden_size = 300 # size of the hidden - tanh layer\n",
        "batch_size = 32 # minibatch size for training, 2, 4, 8, 16, 32, 64, etc\n",
        "\n",
        "# build the dataset\n",
        "def buid_dataset(words):\n",
        "\n",
        "    X, Y = [], []\n",
        "\n",
        "    for w in words:\n",
        "        context = [0] * block_size\n",
        "        for ch in w + '.':\n",
        "            ix = stoi[ch]\n",
        "            X.append(context)\n",
        "            Y.append(ix)\n",
        "            context = context[1:] + [ix]\n",
        "\n",
        "    X = torch.tensor(X)\n",
        "    Y = torch.tensor(Y)\n",
        "    print(X.shape, Y.shape)\n",
        "    return X, Y\n",
        "\n",
        "import random\n",
        "random.seed(42)\n",
        "random.shuffle(words)\n",
        "n1 = int(0.8 * len(words))\n",
        "n2 = int(0.9 * len(words))\n",
        "\n",
        "# 80 - 10 - 10 splits\n",
        "Xtr, Ytr = buid_dataset(words[:n1])\n",
        "Xdev, Ydev = buid_dataset(words[n1:n2])\n",
        "Xte, Yte = buid_dataset(words[n2:])\n",
        "\n",
        "# Lookup table - 10 dimensional space\n",
        "g = torch.Generator().manual_seed(2147483647) # for reproductivity\n",
        "C = torch.randn((no_chars, emb_size), generator=g)\n",
        "\n",
        "# Layer 1 - tanh - 300 neurons\n",
        "W1 = torch.randn((block_size * emb_size, hidden_size), generator=g)\n",
        "b1 = torch.randn(hidden_size, generator=g)\n",
        "\n",
        "# Layer 2 - softmax\n",
        "W2 = torch.randn((hidden_size, no_chars), generator=g)\n",
        "b2 = torch.randn(no_chars, generator=g)\n",
        "\n",
        "# All params\n",
        "parameters = [C, W1, b1, W2, b2]\n",
        "print(\"No of params: \", sum(p.nelement() for p in parameters))\n",
        "\n",
        "# Pre-training\n",
        "for p in parameters:\n",
        "    p.requires_grad = True\n",
        "\n",
        "# Stats holders\n",
        "lossi = []\n",
        "stepi = []\n",
        "\n",
        "# Training on Xtr, Ytr\n",
        "for i in range(200_000):\n",
        "    # minibatch construct                                           \n",
        "    ix = torch.randint(0, Xtr.shape[0], (batch_size,))                      \n",
        "    # forward pass:\n",
        "    emb = C[Xtr[ix]]                                                \n",
        "    h = torch.tanh(emb.view(-1, block_size * emb_size) @ W1 + b1)\n",
        "    logits = h @ W2 + b2\n",
        "    loss = F.cross_entropy(logits, Ytr[ix]) \n",
        "    # backward pass:\n",
        "    for p in parameters:\n",
        "        p.grad = None\n",
        "    loss.backward()\n",
        "    # update\n",
        "    lr = 0.1 if i <= 100_000 else 0.01 \n",
        "    for p in parameters:\n",
        "        p.data += - lr * p.grad\n",
        "\n",
        "    # track stats\n",
        "    lossi.append(loss.item())\n",
        "    stepi.append(i)\n",
        "\n",
        "print(\"Loss on minibatch: \", loss.item())"
      ],
      "id": "6dfdbd43",
      "execution_count": null,
      "outputs": []
    },
    {
      "cell_type": "code",
      "metadata": {},
      "source": [
        "emb = C[Xtr]                                 \n",
        "h = torch.tanh(emb.view(-1, block_size * emb_size) @ W1 + b1)\n",
        "logits = h @ W2 + b2\n",
        "loss = F.cross_entropy(logits, Ytr)   \n",
        "print(\"Loss on whole training set: \", loss.item())\n",
        "\n",
        "emb = C[Xdev]                                \n",
        "h = torch.tanh(emb.view(-1, block_size * emb_size) @ W1 + b1)\n",
        "logits = h @ W2 + b2\n",
        "loss = F.cross_entropy(logits, Ydev)   \n",
        "print(\"Loss on dev/validation set: \", loss.item())\n",
        "\n",
        "emb = C[Xte]                                \n",
        "h = torch.tanh(emb.view(-1, block_size * emb_size) @ W1 + b1)\n",
        "logits = h @ W2 + b2\n",
        "loss = F.cross_entropy(logits, Yte)   \n",
        "print(\"Loss on test set: \", loss.item())"
      ],
      "id": "e40410b0",
      "execution_count": null,
      "outputs": []
    },
    {
      "cell_type": "markdown",
      "metadata": {},
      "source": [
        "## summary of our final code, conclusion\n"
      ],
      "id": "d3f1cd64"
    },
    {
      "cell_type": "code",
      "metadata": {},
      "source": [
        "plt.plot(stepi, lossi)"
      ],
      "id": "6150bef1",
      "execution_count": null,
      "outputs": []
    },
    {
      "cell_type": "code",
      "metadata": {},
      "source": [
        "plt.figure(figsize=(8,8))\n",
        "plt.scatter(C[:,0].data, C[:, 1].data, s=200)\n",
        "for i in range(C.shape[0]):\n",
        "    plt.text(C[i,0].item(),C[i,1].item(), itos[i], ha=\"center\", va=\"center\", color=\"white\")\n",
        "plt.grid('minor')"
      ],
      "id": "090a7a1a",
      "execution_count": null,
      "outputs": []
    },
    {
      "cell_type": "markdown",
      "metadata": {},
      "source": [
        "We can see the loss on validation set and test set are quite similar as we are not try different scenarios to calibrate/tune hyperparamters much. So they both have the same suprise to the model training by `Xtr`.\n",
        "\n",
        "We still have rooms for improvement!\n",
        "\n",
        "## sampling from the model\n",
        "\n",
        "But our networks now can generate more name-like name!\n"
      ],
      "id": "991594e5"
    },
    {
      "cell_type": "code",
      "metadata": {},
      "source": [
        "g = torch.Generator().manual_seed(2147483647 + 10)\n",
        "\n",
        "for _ in range(20):\n",
        "    \n",
        "    out = []\n",
        "    context = [0] * block_size # initialize with all ...\n",
        "    while True:\n",
        "      emb = C[torch.tensor([context])] # (1,block_size,d)\n",
        "      h = torch.tanh(emb.view(1, -1) @ W1 + b1)\n",
        "      logits = h @ W2 + b2\n",
        "      probs = F.softmax(logits, dim=1)\n",
        "      ix = torch.multinomial(probs, num_samples=1, generator=g).item()\n",
        "      context = context[1:] + [ix]\n",
        "      out.append(ix)\n",
        "      if ix == 0:\n",
        "        break\n",
        "    \n",
        "    print(''.join(itos[i] for i in out))"
      ],
      "id": "c78631e2",
      "execution_count": null,
      "outputs": []
    },
    {
      "cell_type": "markdown",
      "metadata": {},
      "source": [
        "## google collab (new!!) notebook advertisement\n",
        "\n",
        "Colab link: <https://colab.research.google.com/drive/1YIfmkftLrz6MPTOO9Vwqrop2Q5llHIGK?usp=sharing>\n",
        "\n",
        "Thanks Andrej!\n",
        "\n",
        "# resources\n",
        "\n",
        "1.  [**A Neural Probabilistic Language Model**, Bengio et al. (2003)](https://www.jmlr.org/papers/volume3/bengio03a/bengio03a.pdf)\n",
        "2.  [Video lecturer](https://www.youtube.com/watch?v=TCH_1BHY58I)\n",
        "3.  [Notebook](https://github.com/karpathy/nn-zero-to-hero/blob/master/lectures/makemore/makemore_part2_mlp.ipynb)\n",
        "4.  [`makemore` on Github](https://github.com/karpathy/makemore)\n",
        "5.  [`torch.Tensor()` documentation](https://pytorch.org/docs/main/tensors.html)"
      ],
      "id": "5bf90af8"
    }
  ],
  "metadata": {
    "kernelspec": {
      "name": "python3",
      "language": "python",
      "display_name": "Python 3 (ipykernel)",
      "path": "C:\\Users\\tuanlk\\AppData\\Local\\Programs\\Python\\Python313\\share\\jupyter\\kernels\\python3"
    }
  },
  "nbformat": 4,
  "nbformat_minor": 5
}